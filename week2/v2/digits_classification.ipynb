{
 "cells": [
  {
   "cell_type": "markdown",
   "metadata": {
    "slideshow": {
     "slide_type": "slide"
    }
   },
   "source": [
    "# MNIST digits classification with TensorFlow"
   ]
  },
  {
   "cell_type": "markdown",
   "metadata": {},
   "source": [
    "<img src=\"images/mnist_sample.png\" style=\"width:30%\">"
   ]
  },
  {
   "cell_type": "code",
   "execution_count": 1,
   "metadata": {},
   "outputs": [
    {
     "name": "stdout",
     "output_type": "stream",
     "text": [
      "We're using TF 1.2.1\n"
     ]
    },
    {
     "name": "stderr",
     "output_type": "stream",
     "text": [
      "Using TensorFlow backend.\n"
     ]
    }
   ],
   "source": [
    "import numpy as np\n",
    "from sklearn.metrics import accuracy_score\n",
    "from matplotlib import pyplot as plt\n",
    "%matplotlib inline\n",
    "import tensorflow as tf\n",
    "print(\"We're using TF\", tf.__version__)\n",
    "\n",
    "import sys\n",
    "sys.path.append(\"../..\")\n",
    "import grading\n",
    "\n",
    "import matplotlib_utils\n",
    "from importlib import reload\n",
    "reload(matplotlib_utils)\n",
    "\n",
    "import grading_utils\n",
    "reload(grading_utils)\n",
    "\n",
    "import keras_utils\n",
    "from keras_utils import reset_tf_session"
   ]
  },
  {
   "cell_type": "markdown",
   "metadata": {},
   "source": [
    "# Fill in your Coursera token and email\n",
    "To successfully submit your answers to our grader, please fill in your Coursera submission token and email"
   ]
  },
  {
   "cell_type": "code",
   "execution_count": 2,
   "metadata": {},
   "outputs": [],
   "source": [
    "grader = grading.Grader(assignment_key=\"XtD7ho3TEeiHQBLWejjYAA\", \n",
    "                        all_parts=[\"9XaAS\", \"vmogZ\", \"RMv95\", \"i8bgs\", \"rE763\"])"
   ]
  },
  {
   "cell_type": "code",
   "execution_count": 37,
   "metadata": {},
   "outputs": [],
   "source": [
    "# token expires every 30 min\n",
    "COURSERA_TOKEN = \"jtCkdzwPDOaZaZia\"\n",
    "COURSERA_EMAIL = \"prachiprakash80@gmail.com\""
   ]
  },
  {
   "cell_type": "markdown",
   "metadata": {},
   "source": [
    "# Look at the data\n",
    "\n",
    "In this task we have 50000 28x28 images of digits from 0 to 9.\n",
    "We will train a classifier on this data."
   ]
  },
  {
   "cell_type": "code",
   "execution_count": 3,
   "metadata": {},
   "outputs": [],
   "source": [
    "import preprocessed_mnist\n",
    "X_train, y_train, X_val, y_val, X_test, y_test = preprocessed_mnist.load_dataset()"
   ]
  },
  {
   "cell_type": "code",
   "execution_count": 4,
   "metadata": {},
   "outputs": [
    {
     "name": "stdout",
     "output_type": "stream",
     "text": [
      "X_train [shape (50000, 28, 28)] sample patch:\n",
      " [[ 0.          0.29803922  0.96470588  0.98823529  0.43921569]\n",
      " [ 0.          0.33333333  0.98823529  0.90196078  0.09803922]\n",
      " [ 0.          0.33333333  0.98823529  0.8745098   0.        ]\n",
      " [ 0.          0.33333333  0.98823529  0.56862745  0.        ]\n",
      " [ 0.          0.3372549   0.99215686  0.88235294  0.        ]]\n",
      "A closeup of a sample patch:\n"
     ]
    },
    {
     "data": {
      "image/png": "[encoded data removed]",
      "text/plain": [
       "<matplotlib.figure.Figure at 0x7f1b304133c8>"
      ]
     },
     "metadata": {},
     "output_type": "display_data"
    },
    {
     "name": "stdout",
     "output_type": "stream",
     "text": [
      "And the whole sample:\n"
     ]
    },
    {
     "data": {
      "image/png": "[encoded data removed]",
      "text/plain": [
       "<matplotlib.figure.Figure at 0x7f1b2e370518>"
      ]
     },
     "metadata": {},
     "output_type": "display_data"
    },
    {
     "name": "stdout",
     "output_type": "stream",
     "text": [
      "y_train [shape (50000,)] 10 samples:\n",
      " [5 0 4 1 9 2 1 3 1 4]\n"
     ]
    }
   ],
   "source": [
    "# X contains rgb values divided by 255\n",
    "print(\"X_train [shape %s] sample patch:\\n\" % (str(X_train.shape)), X_train[1, 15:20, 5:10])\n",
    "print(\"A closeup of a sample patch:\")\n",
    "plt.imshow(X_train[1, 15:20, 5:10], cmap=\"Greys\")\n",
    "plt.show()\n",
    "print(\"And the whole sample:\")\n",
    "plt.imshow(X_train[1], cmap=\"Greys\")\n",
    "plt.show()\n",
    "print(\"y_train [shape %s] 10 samples:\\n\" % (str(y_train.shape)), y_train[:10])"
   ]
  },
  {
   "cell_type": "markdown",
   "metadata": {},
   "source": [
    "# Linear model\n",
    "\n",
    "Your task is to train a linear classifier $\\vec{x} \\rightarrow y$ with SGD using TensorFlow.\n",
    "\n",
    "You will need to calculate a logit (a linear transformation) $z_k$ for each class: \n",
    "$$z_k = \\vec{x} \\cdot \\vec{w_k} + b_k \\quad k = 0..9$$\n",
    "\n",
    "And transform logits $z_k$ to valid probabilities $p_k$ with softmax: \n",
    "$$p_k = \\frac{e^{z_k}}{\\sum_{i=0}^{9}{e^{z_i}}} \\quad k = 0..9$$\n",
    "\n",
    "We will use a cross-entropy loss to train our multi-class classifier:\n",
    "$$\\text{cross-entropy}(y, p) = -\\sum_{k=0}^{9}{\\log(p_k)[y = k]}$$ \n",
    "\n",
    "where \n",
    "$$\n",
    "[x]=\\begin{cases}\n",
    "       1, \\quad \\text{if $x$ is true} \\\\\n",
    "       0, \\quad \\text{otherwise}\n",
    "    \\end{cases}\n",
    "$$\n",
    "\n",
    "Cross-entropy minimization pushes $p_k$ close to 1 when $y = k$, which is what we want.\n",
    "\n",
    "Here's the plan:\n",
    "* Flatten the images (28x28 -> 784) with `X_train.reshape((X_train.shape[0], -1))` to simplify our linear model implementation\n",
    "* Use a matrix placeholder for flattened `X_train`\n",
    "* Convert `y_train` to one-hot encoded vectors that are needed for cross-entropy\n",
    "* Use a shared variable `W` for all weights (a column $\\vec{w_k}$ per class) and `b` for all biases.\n",
    "* Aim for ~0.93 validation accuracy"
   ]
  },
  {
   "cell_type": "code",
   "execution_count": 5,
   "metadata": {},
   "outputs": [
    {
     "name": "stdout",
     "output_type": "stream",
     "text": [
      "(50000, 784)\n",
      "(10000, 784)\n"
     ]
    }
   ],
   "source": [
    "X_train_flat = X_train.reshape((X_train.shape[0], -1))\n",
    "print(X_train_flat.shape)\n",
    "\n",
    "X_val_flat = X_val.reshape((X_val.shape[0], -1))\n",
    "print(X_val_flat.shape)"
   ]
  },
  {
   "cell_type": "code",
   "execution_count": 6,
   "metadata": {},
   "outputs": [
    {
     "name": "stdout",
     "output_type": "stream",
     "text": [
      "(50000, 10)\n",
      "[[ 0.  0.  0.  0.  0.  1.  0.  0.  0.  0.]\n",
      " [ 1.  0.  0.  0.  0.  0.  0.  0.  0.  0.]\n",
      " [ 0.  0.  0.  0.  1.  0.  0.  0.  0.  0.]] [5 0 4]\n"
     ]
    }
   ],
   "source": [
    "import keras\n",
    "\n",
    "y_train_oh = keras.utils.to_categorical(y_train, 10)\n",
    "y_val_oh = keras.utils.to_categorical(y_val, 10)\n",
    "\n",
    "print(y_train_oh.shape)\n",
    "print(y_train_oh[:3], y_train[:3])"
   ]
  },
  {
   "cell_type": "code",
   "execution_count": 7,
   "metadata": {},
   "outputs": [],
   "source": [
    "# run this again if you remake your graph\n",
    "s = reset_tf_session()"
   ]
  },
  {
   "cell_type": "code",
   "execution_count": 9,
   "metadata": {},
   "outputs": [],
   "source": [
    "# Model parameters: W and b\n",
    "W = tf.get_variable(name=\"w\", shape = (784, 10))### YOUR CODE HERE ### tf.get_variable(...) with shape[0] = 784\n",
    "b = tf.get_variable(name=\"b\", shape = (1,10))### YOUR CODE HERE ### tf.get_variable(...)"
   ]
  },
  {
   "cell_type": "code",
   "execution_count": 10,
   "metadata": {},
   "outputs": [],
   "source": [
    "# Placeholders for the input data\n",
    "input_X = tf.placeholder(tf.float32, shape = (None, 784))\n",
    "input_y = tf.placeholder(tf.float32, shape = (None, 10))"
   ]
  },
  {
   "cell_type": "code",
   "execution_count": 29,
   "metadata": {},
   "outputs": [],
   "source": [
    "# Compute predictions\n",
    "logits = input_X @ W + b\n",
    "probas = tf.nn.softmax(logits)\n",
    "classes = tf.argmax(probas, axis = 1)\n",
    "\n",
    "# Loss should be a scalar number: average loss over all the objects with tf.reduce_mean().\n",
    "# Use tf.nn.softmax_cross_entropy_with_logits on top of one-hot encoded input_y and logits.\n",
    "# It is identical to calculating cross-entropy on top of probas, but is more numerically friendly (read the docs).\n",
    "loss = tf.reduce_mean(tf.nn.softmax_cross_entropy_with_logits(labels = input_y, logits = logits))\n",
    "\n",
    "# Use a default tf.train.AdamOptimizer to get an SGD step\n",
    "step = tf.train.AdamOptimizer(0.001).minimize(loss)"
   ]
  },
  {
   "cell_type": "code",
   "execution_count": 34,
   "metadata": {
    "scrolled": false
   },
   "outputs": [
    {
     "data": {
      "text/html": [
       "<img src=\"data:image/jpeg;base64,/9j/4AAQSkZJRgABAQAAAQABAAD/2wBDAAIBAQEBAQIBAQECAgICAgQDAgICAgUEBAMEBgUGBgYFBgYGBwkIBgcJBwYGCAsICQoKCgoKBggLDAsKDAkKCgr/2wBDAQICAgICAgUDAwUKBwYHCgoKCgoKCgoKCgoKCgoKCgoKCgoKCgoKCgoKCgoKCgoKCgoKCgoKCgoKCgoKCgoKCgr/wAARCAEgA2ADASIAAhEBAxEB/8QAHwAAAQUBAQEBAQEAAAAAAAAAAAECAwQFBgcICQoL/8QAtRAAAgEDAwIEAwUFBAQAAAF9AQIDAAQRBRIhMUEGE1FhByJxFDKBkaEII0KxwRVS0fAkM2JyggkKFhcYGRolJicoKSo0NTY3ODk6Q0RFRkdISUpTVFVWV1hZWmNkZWZnaGlqc3R1dnd4eXqDhIWGh4iJipKTlJWWl5iZmqKjpKWmp6ipqrKztLW2t7i5usLDxMXGx8jJytLT1NXW19jZ2uHi4%2BTl5ufo6erx8vP09fb3%2BPn6/8QAHwEAAwEBAQEBAQEBAQAAAAAAAAECAwQFBgcICQoL/8QAtREAAgECBAQDBAcFBAQAAQJ3AAECAxEEBSExBhJBUQdhcRMiMoEIFEKRobHBCSMzUvAVYnLRChYkNOEl8RcYGRomJygpKjU2Nzg5OkNERUZHSElKU1RVVldYWVpjZGVmZ2hpanN0dXZ3eHl6goOEhYaHiImKkpOUlZaXmJmaoqOkpaanqKmqsrO0tba3uLm6wsPExcbHyMnK0tPU1dbX2Nna4uPk5ebn6Onq8vP09fb3%2BPn6/9oADAMBAAIRAxEAPwD9/KKKKACiiigAooooAKKKKACiiigAooooAKKKKACiiigAooooAKKKKACiiigAooooAKKKKACiiigAooooAKKKKACiiigAooooAKKKKACiiigAooooAKKKKACiiigAooooAKKKKACiiigAooooAKKKKACiiigAooooAKKKKACiiigAooooAKKKKACiiigAooooAKKKKACiiigAooooAKKKKACiiigAooooAKKKKACiiigAooooAKKKKACiiigAooooAKKKKACiiigAooooAKKKKACiiigAooooAKKKKACiiigAooooAKKKKACiiigAooooAKKKKACiiigAooooAKKKKACiiigAooooAKKKKACvPfjt%2B1J8FP2b5NGsfil4g1Maj4ilnTQNB8OeF9R1zVNR8lVed4bHTbee5kjiVkMkixlI96biu5c%2BhV4N%2B0P8D/j5/wANJ%2BDv2tv2bLLwfrWueH/B2seFNX8KeOdcutLtLywv7mwuxcQXtraXj288U2noCpt3WVJSCUKK1ABpf/BTL9izWLvxPb2nxXv0h8FWsk/jLUrvwXrEFjoIS0iu9l5dy2iwWsrQzRskMjrJIWKorMrKL2n/APBQ/wDZK1HwBrXxFTx/q9vB4f1ay0vVdE1DwNrNrrkV5ebfscC6PNaLqEr3AYGER27eaAxTcFYjy2b9gH4y%2BMf2a/jn8NfGHinwppHin4o/FS38daHc6U1xeWFpeW0OiywQ3IkihkkiN3pRRwoyYHGDuJVaPi79i/8AaV%2BLmr/Ef45fG34S/CjWvFnjWx8KaPp/gKy%2BI2s2Wm6fY6Hcaldw3qa7b6al5DqDXOqTOksVoPJSKNFZiWcgHsviH9vv9mzwv4a8OeI9XvvG3meK0v5NE8P2vwm8SXGuSRWUscV3NJpMWntf28MLzQq8s0CIpmiy37xM%2Bmaz8RPBHhv4e3XxX8T%2BJbbSvDljo76rf6vqrfZYbSySIzPPMZdvlKsYLNvxtAOcYNfGHin9hH9s/WPgX4X8Nay3hfxV470a58RHRfGV/wDHbxNpGr%2BCLW%2BuUktLO11q1sJLzXIYkjhEy3qw/aTbReYCFGPUfjR/wTotfj1%2Bzb4n%2BHHxD%2BOfjW78d%2BMPhfH4Z17xS3jbWho818tpDE2oJoS3y2FuzzQLK3kRRSEPIBIrSM5AOkg/4KUfsZf8K58V/FbWPite6Jo3giysr7xQ/ifwdq%2Bk3NlZXkxhtb37LeWsVxJaSyK6pcxxtC3luQ%2BEYjj/AI3f8FZP2d/hn8ENU%2BMfgPRfFXiqbQfiD4X8L674Y/4QXXbHU7A6zqVrax3T2cmnNdeV5Fw88DeT5d48aW8MhknjB8r1T/gmJ8ZPHfwq8faR4i8DeG9G8Y%2BI9D0fR7DxDqv7RfjPxut3aWusW%2BoTRyf27AfsEZ8likUSzHe%2BGkxknv8A9qH9gz40/GD4g/F/4g%2BBfEPheOTxfB8LbzwlZ6tfXMSvf%2BE/EdzrUsN40dvJ5ENwGt4VljEzrl2MfyKrgHqFh/wUE/Zb1H4m2XwZh8T%2BJo/Fd5oun6xLoF38N9egudO0%2B9adILu/SSyU6dDut5VeS68pYiFEhQum6j4a/wCCmH7FPi3wZ4s%2BIWkfGC4TR/Bfgi68Zaxe6h4S1W0Fx4et0Z5tWsVntUbVLNVQ4nsxPGxZArEugbB0P9kP4ofEP4mfG74g/G9fD2gxfGj4O%2BHfCF1Y%2BE9duNRl0u4tE11Ltlnns7XzYwNViMT7FZikm6OPA3fN37Y37Kn7UOj/ALDHxS%2BJv7TF34AtIfhD%2BxT8QfBHhePwFqF5cNrzXukWxn1G6W5toBYqE0i3CWcbXAVppCZ22oKAPrPw9/wUl/Yy8TaHrHiPT/i1dQWehppU1/JqnhLVbJmtNSu1s7HUIUuLVGubCWdgovoQ9qoDO0qorMPT9E%2BLvw88R/FLX/gvofiH7T4k8LaXp%2Boa/YR2k22zgvmuBa7pinlF3%2ByzHy1cyKoRmVVkjLfJOofsz%2BIPFegeKfjb/wAFIvF/wz8J%2BBbf9nu5%2BHUlx4f8QTLay6beyQyXmq3k17BbpYOTBbCG2QzCAmT/AEiQsuOw/wCCPngP4u2f7I9r8f8A9pDUDf8AxJ%2BL15H4n8V6g9nJbtJCLSCy01fKl%2BeH/iX2lpI0TYKSzTZAYtkA%2BqqKKKACiiigAooooAKKKKACiiigAooooAKKKKACiiigAooooAKKKKACiiigAooooAKKKKACiiigAooooAKKKKACiiigAooooAK8R0j/AIKMfse6ld69Z6n8Urzw83hzw5c%2BINQk8a%2BEdV0GObSbd0jnv7WTUrWBb63R5IlaW2MqAyxjOXXPtN7FczWcsNndCCZ4mWKYx7/LYjhtp64POO9fmJq//BHL9uX4v6t4X1z43fHHQ31vw14P1Cz1DxRqHxW8TeJx4h1v7ZpV9a6idLvoobLSbaS50xfPsLIBRHJtWWQKgUA%2B2X/b/wD2YbX4aN8WNY8QeKtK0ttcg0axs9c%2BGWv2GqanfzIZIYLLTbixS9v2kQM6/Z4ZAyo7AkIxHReA/wBqz4H/ABH1%2By8J%2BHPEOqQ6vf8AhSfxJDpGteFdS0y7TTYbv7JLLLDeW8UkDrP8hhkVZe%2BzbzXk3xO%2BDn7bvxib4e/G3XPBvwq0P4h/Cjx1NrHh/wAM2vjjUr/Rdcs7jSbvTLmO4vn0qGaxmKXskkbpa3AjMQU%2BYJGxV%2BJPwG/bg1/4y%2BHf2mvA%2BjfCu08WX3ww1XwX4x0LUvFepSWGkLcX8N1a39lcJpwk1AxCN1kt5YrQSlxiWLHIB3Gk/wDBRv8AZA8R694F8LeFfiNqus6n8SfBuleLfBunaJ4H1m9nvND1F9lrqMiQWjNa2%2B7HmSTiNbcMpm8oMCdj4a/tufs3fFf4jXPwn8M%2BL9Ws9ft9LudThsvE/gzVtEW/sbeRI57uyl1G1gjv4I3liDy2zSIvmISQGUnyj9hT9hL4sfsw6/8ADjWfHniDw1dnwd%2Byl4R%2BGN%2B%2BkXM8rNq2lvM1zNF5kEe61bemxmKu235o0wK8a%2BGn/BKv9sbxP8UfC/ib9qb4w2eqRaf4A8V%2BF/GniaD4v%2BJNavPEUur2KW39p2umX0Men6EcqWNpaKUXKgTOI1WgD6l8J/8ABRf9kfxrosfirQfHeuf2Hcarpen6f4lvfh/rdrpWoy6lex2VlJaX09mlteQS3M0UYuIJHhBlQs4VgT6X4W%2BLvw88a/EDxT8LvC/iH7XrnguSzj8T2iWkwWxkuoPtEEZlZBG7tCVkKIzMiyRlgokTd8w%2BOPAnxF8K/wDBPbxp8CP%2BChnif4VeCPAWg/DSLQLb4meHfFt2GadI0trXUntLqzgTTZlmFvJDBHcXTGcoiOTtDdr/AMEr/h98WPDf7ImlfFX9oqwS3%2BJ3xYvpfHXxEhW3aL7Pf36xmG02N8yfZbGOys9pyQLXBoA%2BjaKKKACiiigAooooAKKKKACiiigAooooAKKKKACiiigAooooAKKKKACiiigAooooAKKKKACiiigAooooAKKKKACiiigAooooAKKKKACvF/j14/8A2i/%2BGi/AvwI%2BAvjPwV4fTX/BXiXXtX1Pxf4Lu9aJOnXeh28MMMdvqVj5Yb%2B1JWZmZ8%2BWgAXkn2ivCviNraWX/BSv4QaJIo/074KfEMo3fdHq3g04/IsfwpNpblwhKo7R7N/crsv/APCD/wDBQv8A6Og%2BDP8A4YfVv/moo/4Qf/goX/0dB8Gf/DD6t/8ANRXs1FMg8Z/4Qf8A4KF/9HQfBn/ww%2Brf/NRR/wAIP/wUL/6Og%2BDP/hh9W/8Amor2aigDxn/hB/8AgoX/ANHQfBn/AMMPq3/zUUf8IP8A8FC/%2BjoPgz/4YfVv/mor2aigDxn/AIQf/goX/wBHQfBn/wAMPq3/AM1FH/CD/wDBQv8A6Og%2BDP8A4YfVv/mor2aigDxn/hB/%2BChf/R0HwZ/8MPq3/wA1FH/CD/8ABQv/AKOg%2BDP/AIYfVv8A5qK9mooA8Z/4Qf8A4KF/9HQfBn/ww%2Brf/NRR/wAIP/wUL/6Og%2BDP/hh9W/8Amor2aigDxn/hB/8AgoX/ANHQfBn/AMMPq3/zUUf8IP8A8FC/%2BjoPgz/4YfVv/mor2aigDxn/AIQf/goX/wBHQfBn/wAMPq3/AM1FH/CD/wDBQv8A6Og%2BDP8A4YfVv/moq1r/AMb/ANkT4U2mkaT8dPjD8OfDmuahosGoG28XeIbC0u7iOTI8/bcOrsjOkgDdMowzwQM3/hr/AP4Jwf8AR0XwR/8AC20f/wCO1zTxmDpycZ1Ypro5RT%2B5yTPaw/DfEmLoRrUMDXnCSupRo1pRa7qUaMotaPVNrTcsf8IP/wAFC/8Ao6D4M/8Ahh9W/wDmoo/4Qf8A4KF/9HQfBn/ww%2Brf/NRVf/hr/wD4Jwf9HRfBH/wttH/%2BO16doGi/CzxXoVl4p8LaT4f1LTNStI7rTtR0%2BCCaC6gkUPHLHIgKujKQyspIIIIODV0sTh67apzjK3aSf5NnPjsmznK4RnjcLVpKTsnUp1Kab3snOnBN21sm3bW1tTzn/hB/%2BChf/R0HwZ/8MPq3/wA1FH/CD/8ABQv/AKOg%2BDP/AIYfVv8A5qK88%2BH3/BRr9i/xf4Hs/GHiH4e%2BJ9Bn1TxxrXhbRNGufg9rc95q17p1xfxyLaRQ6ez3RMOnzzssSuYQDHJskVlHZfEL9qj9lrwLZePbS80SLT9Y8BeENa8Q3lt4s8CatpNnd2emL/pc9vdSac4vbeJmiEktkl0VE0bBH3or7Hmmj/wg/wDwUL/6Og%2BDP/hh9W/%2Baij/AIQf/goX/wBHQfBn/wAMPq3/AM1FVbD9qz9jDUPjPJ%2Bz9DeW/wDwlFv4gj0G6j/4Qa/FhDqr6dHqUdi2oNaC0Wd7SVJkjMoZwcKCwKjZ%2BNfxV%2BCvwk/Z5139ofR/COjeKNO0uwaTTbfQ1tpBqt00oggtYpgCgaS4ZIdxO1WYluhoAof8IP8A8FC/%2BjoPgz/4YfVv/moo/wCEH/4KF/8AR0HwZ/8ADD6t/wDNRTv2c/iJZ/Fe58Z%2BC/it8DfDXhPxd4B1%2BLTfEOmaTqS6rYOk1jb30Fzb3clpavJG0VyFO%2BCNllhlXDKqu/mPwY/bFu/jFpFvqQ/ZZ8F6B/wl/wAMD8QfhVPrnjER2ur6CssCvJqco00nSZo47yxmeNEu1VbnHmFkcAA9M/4Qf/goX/0dB8Gf/DD6t/8ANRR/wg//AAUL/wCjoPgz/wCGH1b/AOaivBNT/wCCm/w30/4G6T8XJfhD8J7S31P4hah4W/4TDWPiZFa%2BBCbSye6N5D4i/s1vOilKm2j/ANFXfcxzRZHl7m67xx%2B1X8StG%2BE/wp%2BN3g79inwZc6N8UZfC1pbaH4k8Zy6Zr1lfaxNErwfY00eeKQWsMj3EjNcRkx283yKVG4A9N/4Qf/goX/0dB8Gf/DD6t/8ANRR/wg//AAUL/wCjoPgz/wCGH1b/AOaiuL8E/tX%2BH/FPxs07wnqf7OWhaf4D8SePfEXgnwj41/taOS6vdd0SO%2Be%2BjnsDaKttb50rVVjmFxIzGy%2BaOMSKa8/1v/gpb4Cg%2BDHxP%2BN2i/s2%2BFrbRfBPxB8J%2BH/DWp%2BLfFMWl2Gt6dr19plpb65c3Aspf7Oswmo/ah8kxa3RHby2kKRgHun/AAg//BQv/o6D4M/%2BGH1b/wCaij/hB/8AgoX/ANHQfBn/AMMPq3/zUV5t8Vv21/h/8LPAnw6ur/wn8Dm8SfEWy1DUbC6vfixDaeEYdOs5IElul119N3T7mvLCNES0LPJc44SNpK1Nb/ay8EQ/tP6N%2By7oPw9%2BFCawbXSpfEv/AAkvxDg024Mt4DI1ro9t9hlk1iaGBfOcH7Mm2aAB8u4iAO1/4Qf/AIKF/wDR0HwZ/wDDD6t/81FH/CD/APBQv/o6D4M/%2BGH1b/5qK818Iftv/Dv4g6/8TJvBHwy%2BGF9onw60/wAQSvZf8J/B/wAJNdy6TNLbSySaOli32WykuLeZI7l7hmZRHJ5O2QY2v2b/AI8eL/2o/wBnFPjZ8Jvgx8Btb1S7mt/sOl%2BH/jBJqGnRo8SSSxXV/DoZa3uo94BgFvIOmXXNAHYf8IP/AMFC/wDo6D4M/wDhh9W/%2Baij/hB/%2BChf/R0HwZ/8MPq3/wA1FfP9v/wUgM3gL4P%2BJtX/AGdfgx4ZvPi9H4kudIm8b/GD%2By9HNppt9b29nLbXzaKz3T38VzFcwxmCJhG3O45A9h%2BNP7THgD4VftNfDT9mjRfgZpuvXnjXWVs/E2rRSxQw%2BGI5rK/ubNnUwsbiW4bTrpUiBjwkEkjMuI0lAN//AIQf/goX/wBHQfBn/wAMPq3/AM1FH/CD/wDBQv8A6Og%2BDP8A4YfVv/morjPB37S8niX9pfxd%2BywPgR8MtS8S6B4R1DXLKLwf4/XUzaNDNbx2tlratpsJ0a4uxdJJCv8ApAZLe7YEiEF%2Bc1b9uXRPC/7HuhftLeOf2d/Avh/U9U%2BIuo%2BDtWtdc8ZrbeHNBubPVdQ06S8vdafTg0No0mnkJK1oCZbqCIqN%2B8AHq3/CD/8ABQv/AKOg%2BDP/AIYfVv8A5qKoeB/HH7Vng79qzw58Efjd8R/h74m0bxN8PfEOuQzeFfh5faLdWl1pt9oluis9xq98ksbpqkpKhEYNEhDYyDofAP4leF/2hv2V9M/aF0z4ZWPh2fWNHuruzis3SdAYpJUjubW5WOMz20vlrPBPsTzYZY3KLu2hPHH/ACkL%2BF//AGRnx5/6dvCFAHs1FFFABRRRQAUUUUAFfOPwm8Vft3/HXR9e8d%2BF/jf8JNA0u3%2BIXirQ9L0q/wDg/ql/cRWul69f6ZC0twniKBZZHjs1dmWKNdzkBQAK%2Bjq8E/ZCHmfs663bsTsm%2BOnjyKUA43I/j7VlZfoVJB9jQBq/8IP/AMFC/wDo6D4M/wDhh9W/%2Baij/hB/%2BChf/R0HwZ/8MPq3/wA1FP1/9qD/AIJ%2B%2BFNdvfC3in9oj4Oabqem3clrqOnah4u0qGe1njYpJFJG8oZHVgVZWAIIIIyKqf8ADX//AATg/wCjovgj/wCFto//AMdrleOwKdnVh/4HH/5I96HCvFNSCnDL8Q00mmqFdpp6ppqg0000002mmmm00yx/wg//AAUL/wCjoPgz/wCGH1b/AOaij/hB/wDgoX/0dB8Gf/DD6t/81FP0D9qD/gn74r12y8LeFv2iPg5qWp6ldx2unadp/i3Spp7qeRgkcUcaSlndmIVVUEkkADJq9%2B1X8S/hV%2Byh%2Bzf41/aS8U/C5dW0/wAFeHrjVbrTdI0QTXFysS52IscbEZOMuRtRcu5VVZhrSr0K6bpzUrdmn%2BTZ5%2BOyvM8rnGGNw9Sk5K6VSE6ba2ulOEG1fS6TV9L30M7/AIQf/goX/wBHQfBn/wAMPq3/AM1FH/CD/wDBQv8A6Og%2BDP8A4YfVv/moqhpP7Wf7H%2BueN5fhrpfhrX5fENt4cXXtQ0X/AIU1rq3Wn2Dx3bxS3UbaeGtWl%2Bw3KxRzBJJnjEcau7orO0z9pz9mDxNJ4d/4RXTLBDrPjqbwre2HiXwlqOj6jY30ejXWrmFrK5sBMkptbdZlW4W3jeGTzFlZjFHNqcJd/wCEH/4KF/8AR0HwZ/8ADD6t/wDNRR/wg/8AwUL/AOjoPgz/AOGH1b/5qKofBT9r/wDYX/aC0abxH8NvE2l/2dF4f0/XUv8AxF4Ru9FgudLvmZbW9gk1G2gW5t5HUoJYi6h8ISGIFXf2jfiI3wr1/wAH/DT4QfADw14u8Z%2BNr28TStL1rVV0ixgtbO1a4ubme6SzunQD9zEqrC5aS4jzsQO6gDv%2BEH/4KF/9HQfBn/ww%2Brf/ADUUf8IP/wAFC/8Ao6D4M/8Ahh9W/wDmorntf/ak%2BFsH7Fvhr9r/AMJ/BSyvB4vHh230bw7qhgs/Iv8AWL%2B00%2BCC7uRHItvHFc3iLNKqybVjkKLIdqtxVr%2B24viK%2BsvhZ4J/Zm8BXnxKTxd4g0DxFo1945W20LTp9Htbe7udmqDTXknZoLy0dIzaRt803meUIHNAHq3/AAg//BQv/o6D4M/%2BGH1b/wCaij/hB/8AgoX/ANHQfBn/AMMPq3/zUV51f/th2V38IPhz%2B1T4H/Zm8K6p8JvH9p4VkTWbjxMkGuQy67d29rBFBpq2MkNyYnu4N4N3GzDzBGrlVD6v7PH7UHhv4/ftJeP/AIG23w1%2BE1jb%2BA/EF/pdzbQfEFLrxLILdolW6l0Yacgt7eQyYEhuWxgcHdwAdh/wg/8AwUL/AOjoPgz/AOGH1b/5qKP%2BEH/4KF/9HQfBn/ww%2Brf/ADUV6Zoen2OkeKdQ03SrSO2tvsNrKLeBAqB2edWYKOASEXOPQVtUAeM/8IP/AMFC/wDo6D4M/wDhh9W/%2Baij/hB/%2BChf/R0HwZ/8MPq3/wA1FezUUAeM/wDCD/8ABQv/AKOg%2BDP/AIYfVv8A5qKP%2BEH/AOChf/R0HwZ/8MPq3/zUV7NRQB4z/wAIP/wUL/6Og%2BDP/hh9W/8Amoo/4Qf/AIKF/wDR0HwZ/wDDD6t/81FezUUAeM/8IP8A8FC/%2BjoPgz/4YfVv/moo/wCEH/4KF/8AR0HwZ/8ADD6t/wDNRXs1FAHjP/CD/wDBQv8A6Og%2BDP8A4YfVv/moo/4Qf/goX/0dB8Gf/DD6t/8ANRXs1FAHjP8Awg//AAUL/wCjoPgz/wCGH1b/AOaij/hB/wDgoX/0dB8Gf/DD6t/81FezUUAeM/8ACD/8FC/%2BjoPgz/4YfVv/AJqKP%2BEH/wCChf8A0dB8Gf8Aww%2Brf/NRXs1FAHjP/CD/APBQv/o6D4M/%2BGH1b/5qKP8AhB/%2BChf/AEdB8Gf/AAw%2Brf8AzUV7NRQB4z/wg/8AwUL/AOjoPgz/AOGH1b/5qKP%2BEH/4KF/9HQfBn/ww%2Brf/ADUV7NRQB4z/AMIP/wAFC/8Ao6D4M/8Ahh9W/wDmoo/4Qf8A4KF/9HQfBn/ww%2Brf/NRXs1cr8Qfjp8EvhLE0/wAU/jD4W8NIoyza/wCILazAH/bV1qJ1KdOPNNpLu2kvxaOjDYTFY2sqWHpyqTe0YxlJv0UYyb%2BSOD/4Qf8A4KF/9HQfBn/ww%2Brf/NRR/wAIP/wUL/6Og%2BDP/hh9W/8AmorivGf/AAWK/wCCc/g28/smP9o2z1y/ZtsFj4W0m81N5m9Fa3hZD%2BLAVij/AIKy6Z4h4%2BFn7Bn7RnidG/1N9a/DUwWjjsfNlmGAfda86Wd5RGXKq0W%2B0by/9JUj7Sj4X%2BIdWkqsssq04vaVVRoJ%2Bjr1KF/lc9P/AOEH/wCChf8A0dB8Gf8Aww%2Brf/NRVv8AZW%2BI3xp8Yax8UPAnx01/wvq2qeAfiFFodnqvhPw1c6Tb3VrLoOj6mrPb3F7eMsiyajKhYS7SsaHapznyX/htr/goV4x%2BT4Wf8Eo9eijfpe%2BNPiNp2liP3aEqzt9Ac10X/BOvWfjJ4g1v486x%2B0B4M0nw94un%2BM0B1bRtE1E3dtbAeEfDYiCSkDeTCI2Y9AzMBwK2w2YUMXUcaalte7hKK%2B%2BSV2eXnfCGbcPYWNfG1KN2%2BXkhiKFWotG7uFKpUcVpq21q0up9J0UUV3Hy4UUUUAFFFFABRRRQAUUUUAFFFFABRRRQAUUUUAFFFFABRRRQAUUUUAFfLP7Reuf2T/wVr/ZhsN%2BP7T%2BGvxNtseuG8NTY/wDIX6V9TV8Vftu6wdD/AOCxP7FNyz4juNH%2BJdrIPXzLDSFUf99ba5MbP2dDm84/jOK/U9/hnC/XM29j3p13/wCA4etL/wBtPtWiiius8AKKKKACiiigAooooAKKKKACiiigAooooA8z1L9mT9m340aPoPin4xfs9%2BB/Fmp2/h%2B1tYNR8S%2BE7O/njgVS6xLJPGzBAzuwUHALscZJql/wwP8AsK/9GWfCX/w3Omf/ABiuT%2BL3/BSD9i/9j6Xw58NP2i/jL/wjut33hSz1O1sv%2BEd1G732r74lk32tvIgy8Mo2lg3y5xggnkP%2BH5v/AASy/wCjov8Ayydc/wDkKvFxGL4dp15RrzpKaevN7O9/O6vf1NF4h4jKl9UjnE6Sp6cixNSCj1soqvFR32UVvtqet/8ADA/7Cv8A0ZZ8Jf8Aw3Omf/GK9O0DQNC8KaFZeFvC2i2mm6ZptpHa6dp2n2ywwWsEahI4o40AVEVQFVVAAAAAwK%2BVv%2BH5v/BLL/o6L/yydc/%2BQq%2BnvAPjrwr8UPAmi/EvwLqn27RPEWkW2p6Pe%2BQ8X2i1uIllik2SKrpuR1O1lDDOCAeK6MDiMnrTksHKm2lryct7efKlpfuKXF1XiT91PMZYnk1s686vLfS9pValr7XSV9r9Dwn4YfsL%2BK/AHjzwprWp/GfTdQ0HwP8AFDxV4v8ADWlw%2BEJILsLrv9rPPaXFyb10lMUuqsUlSGL93CEZCzGQeR61/wAEYZde8U%2BPfEl58dvDsVx4y8BeP/C/9tWvwvRNbuY/E0iuLjVdRN8X1R7LaI4UC26eWNu1MBh7tYft%2BfCPV9OsZtJ8KeI5r660XxbqV3pMv2C3l0tPDl6thqMd3JPdpBAwu3SBGaXy2JLF1jV3XhPBv/BT7wP8dpvhxqPwEgs5bHXfjPqPgbxvBf31jqUunm38G6v4hQ21zpV9cWcrsbSwO9J5kCTTRsElU%2BV6RB10n7DAfxDquvj4oYOp/HXSfiOYhon%2Br%2BxaRp%2Bm/YM%2Bf82/7B5nnYG3zdvltt3N3nxr%2BB2oftAfs8678EvH/jGK3v8AWrBo08QaHpZgFldJKJrW6igllly0MqQvtZ2V2jOcBsD548W/8FVpX%2BCHhTxr8IvhTr/iO91SD4eyeI/FMvh%2BC30bRW8SXenKkFzANSa5juGtb3zVSA3UUDTQebMyklvpD4w/Hjw/8JPgF48%2BPt1o2pXNj4C8P6xql9ZXGnzWktwNOhlllWMTopZW8lgkqho3BDIzKQSAc58CP2e/iZ8LtU8R%2BN/HXxX0HxH4n8deLItV8bX9p4OlsbOW0h0yKwt7KxtmvpmtAv2eCVpJZbnczXA2qJU8ngPgf%2Bwh8XPgPa6dL4c/aO0W/vvAnw6j8C/CGbVPAErw6Hoa3NtK6agiairapcPFY2MLTRvaDFsGEYZmJ6f9lr42fH7xD8VPE3wG/aVHhG58RaN4K8O%2BK7XUvBelXNlaC11WTUoDZNHc3Nw7y28%2BlzZnDosqTRkRRkMteST/APBQf9onRNJvfi1feD/BWpeFvEul/EB/h1oEfm6dfW134cNybZdQ1C4uWt3ivYrOeR3ENuLQlELTjdIADrbf9gT4waRrUPxc0D9pHQF%2BIr/EDU/FOpXl/wDDmWfw5LJe6RbaTJDDpK6kksG23tIXWX7YzmWW6Zi4uXQdV8Nf2GtK%2BHNr8CPDg%2BI1zqOg/ArQbuHS9NutNVX1HVpLFdPg1EujhIBDay6lGsCxlf8ATl2sghCv454G/br/AGrviP8As0fGvx34Q1bwQPEnwy0O21nSdU8TfCjXdBS5hbTHvpoJ9Bv9QS/QDy9kV356Qz72KKfIfd0/7S37fvij4Y6j8OfAWieKvD3hbU/FXw5vPGXiLxJrHw91jxNa6bZW32JHUWGlzxTJEXvGd7uWZYbaO3/eFjKhABsXP/BN7T/E/jC60D4k/FGPWfhSvibxX4j0jwBBos1lfW%2Bp%2BIrbULfU2l1SK83SQldY1cxJFDDJGb7PnN5SVc%2BFH/BP%2B/8A2afEfxH8afs1fGi%2BtNT8c3ukSWEfxKvdd8W2elQWVrFAY2iu9ZWSd28sssoliaIFE%2BdI1WovHn7a/jRf2wPhP8D/AISab4e1jwbr/i2Xw98QfFDiWQpfzeFdX16zttOeOUJvSLTYZZzIJFEOoWwTLOzR%2BfeCf%2BCkfxK8E/BH4rfF/wDaU1TQbbXvAnhbWdesPhjL8MNa8LXn2S0vJoIJ/t%2Bp3UsWo2sgFsHurWERRtcKSfmVCAdbaf8ABN/xJ4Z0nwx4q8DfGTw3F8QtC1Hxhc3ev698OPt2kTJ4mu0u9Uht9LW%2BiNsvmw2/lE3EhCo4l88zSMaFv/wSm0jwxb6P4M%2BHXxehsfCg0LwJpvi%2BDVvCwvdZ1b/hFJY306eDURcxraSOsMSSloJ%2BF3ReS7FzreBP20PHF/8AB3UYR4/8K%2BNfifqHiqDw54V8OWHw51nwr9m1G5tFuIkvbHVLmW7a3igE99JdL5QktIXaJCwG7gPD/wDwUN/aF1z4f/s/fFjxjrHhXwN4T%2BIvwO0Xxl478XXnwi17W9JstVvEsnaz%2B2Wt9FBo8BW4mZZr13VQi5ZsHIB6N4I/4J6678OviVB4n8JfFzQrbQfDmveL/EHgTRf%2BEEP2my1bxDJcTXbX90L0DULRJbudkt0itmKiEPK5hV61rH9jj4wXXh74ya94l/aK0qD4hfFzwrb6D/wlXhPwK%2Bm2OhxW1rdQW1zDYy39xJNdIbyV2lkuTu2QJhUiCm38Q/jZ8fvhZ%2B1f4F%2BHOr%2BIvBGteGPiBrGo29v4Y0zw5eQ65oumWmlz3UmrzXhvZIZ4EuY7a2dPssIDajABKz7Uk4X9mn9rn9qr45weGbLWV8Aade/GD4LN8RvhdJDoF60fh%2BATWKtY6ov20nUHSPVbBvNga1Dss6hFAVyAemfGf9mHx14k%2BBenfs2fs/8Aj3wf4M8HReDZvC2o2Gv/AA/k1yT%2BzGto7aKO0Iv7aOBkhVh%2B9juEYlCUwhV%2BK8U/8EqPgNqfxG8BfFDwp4x8c6PqfhDxhpWu6sY/iJrpg15tP0R9IgElrFfxWsUxhFtvnSEmRIHidWWeTNn4d/tA/tFfFT9gzwb%2B05J8VPhd4F1OXw1JrPjvX/EvhG%2Bu9GtoIo5DK8NuuqQSW6ZTeWkuZNigjDk5Hnvij/gob%2B05H8Nz8W7H4Z%2BGvDVv4B%2BA3hn4nfFnwt4j028nv549Ue/M%2BmWMizwfYpreHSrx/Mnhm3vJDGY4yJCAD2jSP2b/AI9Xvx1T9oD4jfHrwtqOr6D4P1nQPBFtovw7nsILZdQns5jNqO7U5n1AxtYW%2BEia0Q5mOAXQxcD4D/YG/aH8KfCDw/4M1f8Aak8IXniPwb8XdU8feFdYtPhXdQacbjUZtWlurS/sH1mV7uINrFy0LJcQNE8Ns/ztES0nwt/br174wftW%2BIvhTpHxB8LaHouleMNX8JaJ4f1XwDq8l3rep6fau823WxPHp8MwkjmlGnrFLcG0tzPuUSYj3fhV8Xf2t/GHxD%2BKf7PV543%2BGereJfBmiaHcad430fwXqFvpFjqV8bpptLvLJ9Tlkmngt4LW5Pl3URaPUINyRAq0gB23wV%2BBC/s2/sw3XwpfxQNauI/7d1XUdSj08WkUt5qN7d6jciC3DuLe3Wa6kWKHe/lxLGm5tu45/jj/AJSF/C//ALIz48/9O3hCn/sxfGXxb%2B0V%2BwP4E%2BP3j6z0631zxr8KdP1zWINHgkitI7q605J5VhSSSR0jDuQqs7sBgFmPJZ44/wCUhfwv/wCyM%2BPP/Tt4QoA9mooooAKKKKACiiigArwX9j//AJN61f8A7L345/8AVgarXvVeC/sf/wDJvWr/APZe/HP/AKsDVaAOs1/9ib9jLxXrt74p8U/sj/DHUtT1K7kutR1HUPAOnTT3U8jF5JZJHhLO7MSzMxJJJJOTVT/hgf8AYV/6Ms%2BEv/hudM/%2BMV534/8A%2BCyn/BNz4X%2BO9b%2BGnjr9o77Drfh3V7nTNYsv%2BEQ1iX7PdW8rRSx747Rkfa6MNysVOMgkc1kf8Pzf%2BCWX/R0X/lk65/8AIVeDPG8MKbUp0b3d7%2BzvfrfTe97mn/ETcTQ/dLPJx5dLfW6qtbS1vrCta1rWVrWsrWXs2gfsTfsZeFNdsvFPhb9kf4Y6bqem3cd1p2o6f4B06Ge1njYPHLHIkIZHVgGVlIIIBByK1v2mvgnZftJ/s6eO/wBnvUNfl0mHxv4R1DQ31WCASvZ/ard4RMEJAcoXDbSQG24yM5rxrwD/AMFlP%2BCbnxQ8d6L8NPAv7R327W/EWr22maPZf8IhrEX2i6uJViij3yWiom53UbmYKM5JA5r3H46/GHw5%2Bz78HvEfxv8AGWmajdaN4V0qXU9ZTSoUknis4hunmCu6BljjDysM52xttDNhT6GBrZbWhJ4OUGk9eTltfz5UtbdyZcSVOJP3s8a8TyaXdWVXlvra8qlS197Jq%2B9up5H4i/Ym%2BIXj/Qfi7L49%2BPtrF4k%2BLfw703wzfa14T8KzabDpslmNRC3MUUl9PIyOL8BojMDiJsSDzBs4b4I/8EpovhF4ih8TQ/EnwhYbfi4PHL6D4C%2BF8egaRAw8I3nhw2dtapeSmEN9qF20rPIzOjKR84dPRfjP/wAFEPg78FtL8Xa5qnhvU9QsfBXi2z8N6xqI8QaDpVo9/cabFqISG41fUrOGTZBPAGAffvmCor7JCnI2v/BR3SfFPj6O/wDBNxaXHgLXPBnwk13wjqsWhST3l1/wmHiDVtNKzI93CscYis7MqwBeBpJnZLnCwV3EnV/A39ijxD8Ao/Al34R%2BLllc3/gb4G6V8OreXUPC7tDd/Y5IGN80aXasu9YWAhDnYXB8xtu1us/aN%2BAXjj4qeIPB/wATPg/8T9O8I%2BM/BN7ePpWqa14afV7Ge1vLVre5tp7VLq1dwf3MqssyFZLePO9C6N5h4N/4KNH4mftFeD/BHhD4P%2BJrLwD4j8FeLNftPFmqaEs7eIYdJuNOhjn0uOyuZpzG/wBqlbyp7dJ5g0DQoQTn0n9qT40fED4e6N4F8LfBxNIh8UfEnxvb%2BHdC1DxPpc9xZabmyvNQnuZ7WOa3lm22thcBYhLETIyAsozQBT8O/ssax4C/Zdtf2VvBninwvqGh6Z4HsNCsf%2BE78EtrEd5PHuF3c6hAt5BHdx3CbcwIIdjmRt7q6onndn/wTXi8N/s8v8F/CN78JHvNW8ZTeJPEc/ib4Hw6joyXbwJbxHTNJF/FHpxt4IbaKAvJcbUg%2BcSs7Oeh0r9rr4pv%2BwT41/aPf4d2WseOPAv/AAlemX2iaPDcCz1DU9D1K%2B02WaGMGSdbeWSyM4iBklWN9mXcZPJ/BH9sz4j/AB68H/EzR/BX7TXwgur/AOGGoWV3qHxS0vwNe33hnUdHn083TNHbJrKsksMiTxvIt7NGPIOVDs0cQBpW3/BP74leDviB8JW%2BF/x58Np8Pfg54SsdI8J%2BBfGHw/udUkiu4YzbzaubqDVbVGvntf3MckkEiweZOyKTM9d3efs1/FHxl%2B0n4Y%2BNnxR%2BLnhy80XwHqmq33gvQPD3gWTT72N722ltCl9fSX84uo1hmfKRQW4eVYpGBMarXgI/br/bD0H4a/BDx98ZtR8IeBNK8b/DXUvFXxC8YT/BLxDq%2Bl6JILrTmsLS4%2ByamE0UGyvJ3mnvJ5IlktJCGVQRX3IrK6h0YFSMgg8EUAZlp/yO2of9gqz/APRlzWpWXaf8jtqH/YKs/wD0Zc1qUAFFFFABRRRQAUUUUAFFFFABRRWV4x8c%2BCfh3ocvif4geMNK0LTYP9dqOsahHawR/wC9JIwUfiaUpRirydkaUqVWvUVOlFyk3ZJJtt9kkm2/JJvyNWivlrxj/wAFhf2MdL12Xwf8JdX8T/FXXouujfC3wtcatIx6DbKAsLZP92Q1ln9qX/gp98bP3HwB/YG0rwJYy/6jxH8ZfFIQgH%2B9p9n/AKQhHXkkdu1eXLOsucuWlJ1H2gnP8YrlXzkfdUvDLjFU1Vx1GODptX5sVUp4ZW7qNWSqyX%2BGg79Ln1zVfVdX0rQrCTVdb1O3s7WFd01zdTLHGg9SzEAD618nx/sS/t9/Ff8A0z9of/gphr%2Bkxzff0L4S%2BHLfSI7cd1S8cNM/1ZcirOl/8EZf2ML3UIta%2BMn/AAnPxP1CFtyX3xF8d3t6%2B7%2B8VjeJGz6FSPal9czSr/Cw1vOc4x/CKm/xL/1c4FwH%2B/537RreOFw1Wr8lUrSw9N%2BvK11V0d18Sf8Agpv%2BwB8Jnkg8Z/tZ%2BDBNDkTW%2Bk6oNRlQ%2BhjtBKwPtjNeet/wV/8AhN44P2X9mH9nL4wfFWaT/UXXhnwJPBY%2BxkuLry/LU/3ipr3X4a/sl/svfBxI1%2BFn7PHgvQHixtuNM8NW0UxI7tKE3sfckmvQqPY51V%2BOtCH%2BGDk/vnK3/kof2l4ZYD%2BBl2JxLXWviIUov1hhqTlby9r5N9T5IX46/wDBX34mDzvh7%2BxJ8Ofh/by/8e83xH8fNfvt7M8WnKGX/d6jpSn9nX/grR8TTj4l/t8%2BDfAts/8Ar7H4bfDxbouO6rcX7CSP/eAzX1tRR/ZKn/Gr1J/9v8q%2B6Cj%2BYf8AEQJYb/kXZVgsP2f1dVpL/t/E1K9358m%2Bp8kj/gkd4L8XDzvj5%2B2D8dfH7yf8fFnq/wAQZLexb1CQW6LsB9A1dV8Pv%2BCSP/BOX4bSrcaJ%2Byj4bvpQ25pfEfnasXbuSL2SUEk%2B2K%2BjKKuGS5TCXN7CLfeS5n98nJnPifE3xBxVF0XmdaFN/Ypy9jD/AMBoRoR/D5mJ4M%2BGnw5%2BHFn/AGd8PPAGiaDb7ceRoulQ2qY9NsSqK26KK9GMYwjaKsvLQ%2BLrV6%2BJqupWm5Se7k3Jv1bbb%2BbYV4z%2By/8A8lv/AGjv%2ByzWP/qFeF69mrxn9l//AJLf%2B0d/2Wax/wDUK8L1RkezUUUUAFFFFABRRRQAUUUUAFFFFABRRRQAUUUUAFFFFABRRRQAUUUUAR3t7Z6dZy6hqF3FBbwRNJPPNIFSNFGWZmPAAAJJPSue%2BGXxm%2BD/AMavCH/Cwfg38VvDXi3QBNJEdc8M67b39n5kf3086B2TcuRkZyO9cP8At9/D7xp8Vv2KPin8OPh5o0up6zrPgbUbWy0iBwr6mWgbdZqWIUGdd0I3EL%2B85IGTXinhy41z4i2X7S3jXwD8AfFcmm/EnwuLTwX4S8VeENU0A%2BIb%2By8P/Z7gzrPDDJYJMZLWxWSbyWk%2BxsYtyIrkA%2BnfhR8dvgh8eNMu9a%2BB3xk8KeM7PT7r7Nf3fhTxFbajFbTbQ3lyNbu4R9pB2kg4INfF3/BUfVv7A/4Ki/sPatu27vEXii0z/wBd5dChx%2BO6u1/4Jf8AgXxl4b%2BJPjnxBqtz8Rtd0if4f%2BC9Ks/GPxV8Bv4b1V7qyXVVn0iK0NpaLJaWizQSJP5LM0l/MjXNz5Y8rwz/AIK%2BWHxa0D/goN%2Byz478aeNvD1/oOk%2BNbu/8P6fpXhiezu7CFdZ8NRyrdXMl7Ml2W8xMFIbcLg5Dbht8vOpOGWVJLpyv7p0z7rwzoxxHHGDov7fto/8AgWGxaX3tpfM/TqiiivUPhQooooAKKKKACiiigAooooAKKKKACiiigDK8Df8AIk6P/wBgu3/9FrWrWUPBmhplYGvoUySIrfVrmNF9lVZAqj2AApf%2BEP0n/n71X/weXf8A8doA1KKy/wDhD9J/5%2B9V/wDB5d//AB2j/hD9J/5%2B9V/8Hl3/APHaAPD/ABB/wTT/AGfPEviP4zeJdQ1fxMJfjbp1tZ65bpqMPk6IIlJaTTUMJEDTTkXMwl81JZlUspX5C/wV/wAE7vhz4W8XR/ELxB8YvH3inxAfidJ47vNY8QXun%2BZd6m3hWfwv5bJa2UMSW4sJyyxxJHiZEbOzdG3tv/CH6T/z96r/AODy7/8AjtH/AAh%2Bk/8AP3qv/g8u/wD47QB85f8ADqT4MWfhfQPAPhz4z/EjSPDukWPhCHVNB07U9PEHiCbw01qdMu7xnsWlE22ytkl%2BzvBHKkShk%2BVcfQOsfDrSPFvgfXfh18Qr658R6T4ihvrbUrXVI4VDWV0HV7MeRHGDEsbmNS2ZCoG93bLG5/wh%2Bk/8/eq/%2BDy7/wDjtH/CH6T/AM/eq/8Ag8u//jtAHmfwO/Y90v4FyalrOnfHPx34g1/VIdFsbrxR4mn02e%2BOkaVJK9ppI8uyji%2BzD7RdhnMZuWN5M5n8wrIvLX//AATL%2BA2vT%2BJ9M8X%2BLPF%2Bs%2BGPEWk%2BJ9PsvBV7qVsmneH08QyNJq8li0NvHcrJM7yFWmmm8gSukAiRite6/wDCH6T/AM/eq/8Ag8u//jtH/CH6T/z96r/4PLv/AOO0AeJ6j%2BwDpmtfDv4h%2BEdd/ag%2BJt9r3xO0S00TxN4/uToZ1f8Asm3SdI7CFBpYso4tt3d5f7KZSbqRvM3bWV/ib9gPRPFXgPwv4Vv/ANpH4kQ6z4a8Kaj4XfxvZHRYdV1bQ75oWnsLkLpgtQmLa2CSwQQzp5AKyhnlaT2n/hD9J/5%2B9V/8Hl3/APHaP%2BEP0n/n71X/AMHl3/8AHaAPF9a/4JifsL6r8TPh78YbL9mzwdpviT4b%2BI7fWdH1qw8K2AvL2a30u5062jvLmSBp50hSeOeP94HS4srSQP8AusGfUv2CfAvjrUPEWpfHr4veN/iRJr3gbVPB8A8UzabbrpGj6jJBJewWo02ytMPK1raEzS%2BbMDaxFXGG3ew/8IfpP/P3qv8A4PLv/wCO0f8ACH6T/wA/eq/%2BDy7/APjtAHj2kf8ABO79nDV4tYuv2jfDlv8AG7Vdc1K2vL7Wvi/4d0jUpVa2tzb26RQQ2UNrAscbSAGOFXYzSF2YsaxLD/gmZ8KtA/Zh8LfsWeDPi5428P8Awp8P%2BB4vCuseCdEi0aC38UWO0rcvfy/2aZxNdh5TcSWstsZWmkbhmJr3z/hD9J/5%2B9V/8Hl3/wDHaP8AhD9J/wCfvVf/AAeXf/x2gDy3wx%2BxyvhT9qjxF%2B1bY/tHfECfUPFAtodT8M30OiTaallbwtHBYQu2mfbbe1R3kn8uO5XdNLI7Fi7A5vwe/YG8F/AuC8X4f/Grx3FPbeDv%2BEU8CXV3Lpc7eBdFEnmJZaWj2JjZFZIAGvEunK2sCszLGFr2T/hD9J/5%2B9V/8Hl3/wDHaP8AhD9J/wCfvVf/AAeXf/x2gD5zT/gmBof/AAzj4P8A2Yp/2v8A4tz6D4J8UQ61pNzPH4aea48hc21ndRnRfs11bQz/AOkoskLP54R2dhHGqdV8Uf2CPBPxi1e01vxz8ZfHU0114a0/w/48FvNpkKeOtNsrqW6gttURLEBUEtxd5%2BxC0LLeToTsfaPYv%2BEP0n/n71X/AMHl3/8AHaP%2BEP0n/n71X/weXf8A8doA8ml/YW%2BH5%2BMX/C2bL4l%2BMLS2h8U3finTvB9vPYDSbDxDc2EtjLqsYa0Nw0xinmbypJ3tvNlaXyd%2BGFf9nj9iK/8A2afhFrHwh8D/ALXHxPvYtUEktvr2tWnhybUrG%2Bllea41ASpo6LdXU8jlpJLxbncecA5z7D/wh%2Bk/8/eq/wDg8u//AI7R/wAIfpP/AD96r/4PLv8A%2BO0AecfAj9nKy/ZL/ZPtv2etE%2BKfijxdpHhXwydO0K/8Xrp/2y2sYLVYYLbdYWlrG6okYAZkMhJJZ24xU8cf8pC/hf8A9kZ8ef8Ap28IV6ifBmhvhZ2vpkyCYrjVrmRG9mVpCrD2IIry7xx/ykL%2BF/8A2Rnx5/6dvCFAHs1FFFABXz9/wUuOmD9mu1/4TTy/%2BEK/4WF4X/4WR9o/49/%2BEe/tm0%2B2/as8fY/L/wCPnd%2B7%2Bzef5n7vfX0DRQB8F%2BCLT4X%2BPv2Avi18L/h/8ZfBXhbwJH471LVvATatrUdroh8Iw6xFI8TsjfudDup4NQsxNGDCLWY%2BUGjCKfB76HRfEXwxsbfxnf8AwT8EfCTUf2lNSuvAV3rWnDXfhTZaZH4NhjeDypW06K%2Bgk1U6i1vJutYjeLNLGHAijl/WyigDwL9hS%2B%2BIFp/wTk%2BGE/g/wo17r9r8PNOi07TvGevz2y3bRwqiPLdi0kljjkVRIjfZywR0BjHQU/2GbjxLdfssXF14z0mxsNXk%2BN/jRtTsdM1F7u2t5z4%2B1UyRxTvDC0yBsgO0UZYAEoucD6JrxP8AYesLTU/gLr9jfQCSKT4y/EYMpJH/ADO2tEHI5BBwQRyCKAPbKKyv%2BEP0n/n71T/weXf/AMdpf%2BEP0n/n71X/AMHl3/8AHaANSqmvaFo/ijQ73wz4i02K80/UbSS1vrO4TdHPDIpR42HdWUkEehqt/wAIfpP/AD96r/4PLv8A%2BO0f8IfpP/P3qv8A4PLv/wCO0AfP3gn/AIJg/Cj4afCPwH8MPh58aviPpWofD7W9T1TS/HK6np9zrd5LfpNFdC6kubKSCTdFN5SusKSxpDEI3TaSbHgb/gmJ8A/h/wCGvD3hXRPFvjCS28NeGvh5odg13qVs8j23g3VbvVNLaRvs43SSz3kq3DcB0VBGIWBdvef%2BEP0n/n71X/weXf8A8do/4Q/Sf%2BfvVf8AweXf/wAdoA8Q%2BG3/AATu8C/Cn4iaX8QPCXx1%2BIir4X8N67oXgPQri802Sw8LWeqzW00yWiGx3ymJ7SDyTdPcbFTYdyfLXpHxz%2BAeifHfwbpfhzV/Gmu6Jqmga1a6x4e8WaA9quo6ZqEAZVuYhPBLbsWjkmidJIXjeOaRSmDx0/8Awh%2Bk/wDP3qv/AIPLv/47R/wh%2Bk/8/eq/%2BDy7/wDjtAHF/Db9m2w%2BEXwwh%2BFfw9%2BKviqwtU07V1uNRJsJry61TUrpry41qR5bRlN79pluJgAoti9zJugcCMJzNz%2Bwr4A134K/EH4O%2BO/if4y8RzfFVtvj/wAXapc2Meqatb%2BRFbG0P2a0itoLc2sX2fy4YIxsllYYlkeU%2Btf8IfpP/P3qv/g8u/8A47R/wh%2Bk/wDP3qv/AIPLv/47QBwX7Rv7MK/tI%2BG5/h/rHxy8a%2BGvCmp6NPpPiXwt4VOmRW2t2UylJYZpbixmuYA0TPHutZoHCucMGCsvptnZ2un2kVhYwLFDBGscMSDARVGAB7ACs/8A4Q/Sf%2BfvVf8AweXf/wAdo/4Q/Sf%2BfvVf/B5d/wDx2gBLT/kdtQ/7Bdn/AOjLmtWqml6Jp2j%2BY1lHJvmIMss9w8rvjoCzksQOcDOBk1boAKKKKACiiuI%2BN/7SXwE/Zs8Of8JV8d/i1ofhezZSYTqt8qS3GOohiGZJm/2UVj7VFSrTowc6klFLdtpJfN2OrBYHG5lioYbCUpVKk3aMYRlKTfZRipN/Jf5nb0V8gJ/wUb%2BP37RTm1/4J/8A7F2v%2BKNLfiP4hfEKX%2BwdEYdpYFkHnXadMhAjD0pz/saf8FA/2hl/4y4/bufwzo8//H34M%2BCGl/2ahB6p/aU4NyynoVKkEZ55ry/7XjW/3SlKr5pcsP8AwOdk1/hUvK59z/xDyvljvxDjqGBtvTnJ1cQvL6vQ9pOMvKrUpO%2B6j09j/aD/AG6/2Rf2WQ0Hxz%2BPOg6Lequ4aOtwbm/YdiLWAPNg9jsx7148P%2BCj/wC0F8aj5H7F/wDwT48eeJbSTiHxV4%2Bmi8N6WynpNEZ9z3CeyhW9q9X/AGef%2BCf37IP7LrLf/CL4I6Tb6tu3y%2BI9TjN9qcrk5ZzdXBeRSTyQpVc9hXslHsM4xP8AFqqku0FzP/wOen3QB5p4dZNpgcBUxs19vFVHSpt91h8M%2Ba3lUxLfdHyL/wAKF/4Kx/Hb5/jL%2B2D4P%2BFWlzcy6H8JvDLXl0yH%2BA3t8d0Tju0eRnpxWp4O/wCCPn7HtlrkXjP40W/ir4t%2BII%2Bf7a%2BKXii41RyTyR5OUhKk9mRq%2BpqKqOS4BvmrJ1X3qNz/AAfur5RM6viZxbCm6OXVIYKm1blwtOGHuuznBOtL/t6u79TJ8GeA/A/w40KLwv8AD3wZpWg6ZD/qdO0bTorWBPpHEqqPwFa1FFepGMYxtFWR8JVq1a9V1KsnKTd222233bbbb822/MKKKxvHPxH%2BHvwx0ZvEfxK8eaN4e09M7r/XNUitIRjrl5WVf1pSlGEeaTsvMxnOFOLlJ2S6vRfe7GzRXzN4k/4LHf8ABNDwrq8uian%2B1joks0Jw76bp17eQn/dlt4Hjb8GNVrP/AILR/wDBMa%2Bk8qH9qzTVPrNoWpRj83tgK895zk6dniad/wDHH/M8l8Q5ApcrxdK//XyH/wAkfUVFfNd9/wAFg/8Agmrp9qLu4/a08PshGQILW7lb/vlIS36Vz83/AAW1/wCCfd/K1r8P/H3iXxfcKcG28MeAtUmfPp%2B8gQH86Us6yeO%2BIh/4En%2BCbYT4iyCG%2BLp/%2BBxb%2B5Nv8D60or5KH/BW3Qrweb4d/wCCfv7UerQt/qrnT/hCzRyD1Ba4Bx%2BFB/4KcfFnXP3fgX/gl1%2B0JcSdh4g8MQaWuf8Aekmap/tvK3tUv6Rm/wD3GR/rHkz%2BGrf0hUf5Uj61or5KH7cv/BQKb97Z/wDBIzxS0TcoZ/ifpUbke6lcqfakP7Wn/BUnxQfI8If8Er7XRx0%2B3eJ/jDp2wH/rlCm8j3Bo/tnBvaM36Uqn/wAig/1gwD%2BGNR%2BlGr/8gvzPravGf2X/APkt/wC0d/2Wax/9QrwvXl%2B//gtt47OFh/Z78B2r9Szarqd7H9MYhNdF/wAE6vD/AMYPC%2BtfHnQ/j38QbDxT4th%2BM0B1bXdL0oWNvcFvCPht4wkIJ2BImjjz1YoWPJrow2NeJm4qlOKtvKPKvT4m/wAEdWEzB4yo4qhUgrXvOPKn5K8nK/yR9KUUUV2nohRRRQAUUUUAFFFFABRRRQAUUUUAFFFFABRRRQAUUUUAFFFFABRRRQAV%2Bcv/AAXi/wCJd4r%2BGvjPp/wjfhPWtS3/ANzb4o8FR5/8iV%2BjVfnz/wAF1tE/4SDwpLYhMmP4DeLrke3k%2BJ/A02f/AByvLzxOWTYi38kn9yv%2Bh954WVI0vEvJnLZ4mjF%2Bk5qD/CbP0GorL8D62PEvgvR/EYbd/aGl29zuHfzI1b%2BtalenFqUU11Ph6tOVGrKnLeLafqm0/wAUwooopmYUUUUAFFFFABRRRQAUUUUAFFFFABRRRQAUUUUAFFFFABRRRQAUUUUAFFFFABRRRQAUUUUAFFFFABRRRQAUUUUAFeM%2BOP8AlIX8L/8AsjPjz/07eEK9mrxnxx/ykL%2BF/wD2Rnx5/wCnbwhQB7NRRRQAUUUUAFFFFABXjP7B/wDyRDXP%2ByzfEf8A9TXW69mrxn9g/wD5Ihrn/ZZviP8A%2BprrdAHs1FFFABRRRQAUUUUAFFFFABRRRQAUUUUAFFMubm2sraS8vLhIYYkLyyyuFVFAyWJPAAHOa%2BWPib/wVI8Fat4wufgz%2BxD8M9U%2BOPjiE7LiPwvIseiaWxyA93qb/uUXP9wsCQVLKa5cVjcLgop1pWvst232UVdt%2Bi%2B49/IeF8%2B4mrSp5dQc1BXnNtRp04/zVKs3GnTj5zmr9FJ6H1Pc3NvZ28l3eXCRRRIXllkcKqKBkkk8AAd6%2BYvib/wVX%2BB2n%2BMZvhN%2BzL4Q8Q/G7xnDxPo/w4tPtNpZnkBrm%2BP7iJMggspfaeCBXNWv/BP39of9rO5j8T/8FKfj/LqOks4lh%2BD/AMObiXTtBgGchLqcET3pHuRtIO1ypxXba/8Atff8Eyf2AvD8fwuHxV8B%2BC7azba3hvwzB9onifGC0tvYpJKHOOXkXLHqSa8uvjcbOHPJxw1P%2BabTm/SLfLH/ALecn/dPfxS8NuC6XPmeJ%2Bv119mnN0MJF9pV5JVq9uqoU6UH0qNanHv4a/4K7ftPL5finxb4K/Z58N3P%2BssvD4HiDxEIz1Rp2xbRkjgSR4ZTk44Fdp8D/wDglv8Asm/B7xH/AMLH8SeGb/4i%2BNpGD3Pjb4l37axfySDkOvnDyoiDnDIgYZ%2B8a5N/%2BCy/7NHiFTF8FfhT8XPiLcPxaweD/hteSec3bBnEQA9z0FMH7SP/AAVb%2BMxz8FP2FfCvw9sJP%2BPfWfi/4xMruD3aysB50RHoxNclOpkjqKpzSxM1s7SqW9EoqnH5W9TwMZ4y4yvhZ4LJnHDUJKzp4GlKPMu1SrG9Wov%2BvmJ5X1gfXQAUBVAAA4Aqtq2saRoNhJquu6pbWVrEMy3N3OscaD1LMQBXyef2R/8Agpj8V%2Bfjf/wUih8MWUn%2Bv0P4U%2BB4LYjPXZfXBM6/98mrOkf8EZv2N76/j1744z%2BOvivqsZ3LqnxJ8dXl7Ju7nbE8UZz6FSK9P65mVX%2BDhrec5Rj%2BEeeX5Hwv9oZvX/gYRx86k4x/8lj7SX5HoPxH/wCClP7A/wAKGki8aftaeCEmiz5ttputJfzIR2Mdr5jg%2BxGa84P/AAWb/Za8RsV%2BCHw3%2BLXxNzxG3gP4aXtwJPp54hr274cfsdfsn/CBYz8Mv2bfA%2BiSR423Vh4YtUnPuZdm9j7lia9HVVVQqqAAMAAdKfss7qfFVhD/AAwlJ/fOSX4B7HiKr8VanT/w05Tf3zml/wCSnyQ/7eP7cHxFAsvgN/wS18axPN/q9R%2BJXiKz0KK3H994mLu/%2B4pBoi%2BGf/BZn4l51XxP%2B038JPhmH/1Wl%2BEvBkustGv/AE0kvmALjvt%2BU9q%2BuKKX9mVan8fEVJeSagv/ACRJ/wDkwf2PWq/7zi6s/KLVNfdTin98j5K/4Yk/4KJa98vjj/grlr8kbfej8P8Awp0rTiPYOjsfxo/4dYeJfEfPxO/4KRftGawp/wBZa6f47TTreT2aOKE5HtmvrWin/YuXv41KX%2BKdR/nMP9Xcql8cZS/xVKsvzqI%2BSh/wRT/Yfvv3vjC08d%2BIbg/fu9a%2BIupPI/1KSoP0rX8Gf8Ea/wDgm54J1pfEFt%2BzTZapdJjb/wAJHrV9qcXXPMV1O8Z/FTX09RTjkmTxd1h4X/wp/ncqPDmQQkpLC07rvFP87mD4W%2BFvwx8DaPH4d8E/DnQdH0%2BEYhsdL0iG3hT6JGoUflVu98F%2BDtSj8nUfCemTp/dmsI2H5EVp0V6Kp01Gyirei/yPVVKlGPKoq3ayt%2BRz1j8JPhTpl0b7Tfhl4et5icmaDRYEYn6hM1vxQxQRiGCJURRhVRcAD6U6inGEIfCkvRDjTpw%2BFJeiS/JIKKKKosKKKKACvGf2X/8Akt/7R3/ZZrH/ANQrwvXs1eM/sv8A/Jb/ANo7/ss1j/6hXhegD2aiiigAooooAKKKKACiiigAooooAKKKKACiiigAooooAKKKKACiiigAooooAK%2BKv%2BCsmh/8JBc6nYbN3l/sq/FC5x/1xvvCU2f/ACHX2rXy1%2B3Pof8Awk3xmh8N7N39ofstfFW22%2BvmXHhZcfrXJj4e1wNWHeEl/wCSyPf4UxX1HirL8R/JiKEvurUm/wAEz2H9kHXP%2BEm/ZN%2BF/iTfu/tD4d6Jc7s9fMsIWz%2BteiV4V/wTH1z/AISH/gnx8Hb/AH7vL8A6fbZ/64xCHH/kOvdaMvn7XAUZ94Rf/ksSuLsL9R4tzHD/AMmIrx%2B6tVS/CwUUUV1nzwUUUUAFFFFABRRRQAUUUUAFFFFABRRRQAUUUUAFFFFABRRRQAUUUUAFFFFABRRRQAUUUUAFFFFABRRRQAUUUUAFeM%2BOP%2BUhfwv/AOyM%2BPP/AE7eEK9mrxnxx/ykL%2BF//ZGfHn/p28IUAezUUUUAFeYftbfGTxl8GPhhYX3w1s9Ml8S%2BJPGGi%2BGtAk1uCSWytbjUL%2BG2N1PHFJG8scMckk3lLJGZTEIw8e/evp9cb8ePgl4a/aB%2BHUvw78Taxqel7dSsdT0vWtEmjjvdL1Cyuoru0u4Gljkj3xzwxttkR43AKOjozKQDxO//AGx/jP4Z/ZD%2BInxI13w94evfHPw38bzeFtbvrDTbpNGAW%2Btov7Za286SdLWGyu476eATMyCGaMTHAlrzCP8A4Kt67qHhMeCvCvjzwX4h8Tv8ZZ/A1n8QfCngXVtY0XUYIvDsPiBtQstHsLqa8vT5Vwlp5MN0wMiSz%2Bb5SFa%2Bl/hz%2BywPhT8PdW8DeC/j144gutckvL3UvE0q6TLqE2rXV09xPqpL2Bh88lxGIvK%2BypFFGiQKFrBP7BngiLwvaR6f8YPG9r40tPG83i5vilHJpj65cavNYNpss8iyWLWLK2nsLQQ/ZBEkUUWxFaNHUA7b4f8Axx8B3X7Ouj/Hrxt8ZvCdxoUugQ3%2BpeN7f/iVaRIpUb7gLdTSG0jLZ/dyys0Z%2BRmLA1xP/BOnxP4a8a/s3X3jDwb4hsdX0jVPi38Q7vTNU0y7S4truCTxnrTRyxSoSsiMpDBlJBBBBr0r4I/B7wj8AfhVovwg8CtePpuiWxjiuNRuPOubmR3aSWeZ8ANLJK7yOQACznAUYA4P9g//AJIhrn/ZZviP/wCprrdAHs1FFFABRRRQAUUUUAFFFFABRUd3d2lhayX1/dRwQQoXmmmcKiKBksSeAAO5r5X/AGgv%2BCwf7J3wl1cfDr4R6hf/ABe8e3Mhh03wb8Nbc6jJNNgna88QaJQCMMEMki/88zg1y4vHYPA0%2BfETUV5vV%2BSWrb8kmznr4vCYZxVapGHNouZpX9N2/kmfVhIAyTXy58Zf%2BCl2iP4/uP2ff2J/htdfGf4iwnZf2%2Bh3Sx6NofJG%2B%2B1A5ijwQfkUkkqULI2BXyX8VdM/4Li/8FBNQl0nxJ8CZPh38PbtSv8Awi58Ux6PHOpPCX8gLX1xGRkPGixKw6BTzXtfwS/4JB/EeDwRa%2BB/j3%2B1NqGj%2BGYDvHw3%2BCtv/YGk7sAEXF1g3WoZxzJOfMOBljivnambZrmU/Z4GhOMP55JRb/w8%2Bi9XGT7RPrcJmfBWR0FX9lPNMU/hpRVTD4SD71sRUjTq1rf8%2B8NSjF/ar20GfEX9m3WfiDaN43/4LA/t16JZaIg%2B0H4T%2BE9eGh6BGo%2BYRzyO63N/7A4YNwrMDitD4f8A7cNnrPh2P4Nf8Eif2I7jxLotk5hi8XXmnf8ACP8AhS1fOGkEkirJeOCMuqhXbruYmvUPhx/wSP8A%2BCdnwxvU1bR/2YNE1O9WQSPeeJ57jVnkkznewvJJFznngAe1fRVjY2WmWUWnabZxW9vBGI4IIIwiRoBgKqjgADgAV0YXKcbGTk5Rpt7yTdSo/L2k0kl5RjbskeNn/FnHvF1GGFxuIp4bCwd40MPFRpx/ww5Y01K2jqOFaq%2BtQ%2BQo/wDgnj%2B0l%2B0qw1X/AIKD/tiaxq1jL8z/AA2%2BFzPouhID1illH%2BkXicnBfaw/vGvcvgT%2BxX%2Byh%2BzNbJD8DfgF4a8PzIu3%2B0YNPWW9cej3Uu6Z/wDgTmvUKK9TD5XgcPP2ihzT/ml70v8AwKV2vlyryPn8LkuW4Wp7VQ5qn8825z/8Cldr0jyryCiiivQPUCiiigAooooAKKKKACiiigAooooAKKKKACiiigAooooAKKKKACvGf2X/APkt/wC0d/2Wax/9QrwvXs1eM/sv/wDJb/2jv%2ByzWP8A6hXhegD2aiiigAooooAKKKKACiiigAooooAKKKKACiiigAooooAKKKKACiiigDz/APar%2BNVz%2Bzn%2Bzf42%2BOOn6Cmq3nhjw5dX2n6ZLMYo7u6VD5ELuASiNKUVnAJVSTg4xXnngD9qT4k/D7RvjNpP7Ucnh/VdV%2BDejw69fax4H0WfT7XU9Ll017xdlrc3Vy8MyPb3cRBndXCRyfJvMaew/Fz4WeDfjh8LPEXwb%2BIdhJdaF4p0W50rVoIZmika3niaN9jrho3AYlXUgqwBBBArgvhn%2Bx14a8B23iSPxX8WPF3jmfxsJU8c3njAaY8mvwmzisooJhaWUCRRQwRkIlusIZppnk815C1AHOfsE/tR%2BKv2lvD%2Bo6p49%2BI/hW/1YaVpeqjwzoHgPV9El0e2vUmeMmXU52OrWzmN0h1CCKCCc28xReqpleOviH8Jvi5/wUN8PfCHwZ8TfDus63o3wO8fWXifRdL1qC4u9JefUvCaol1DG5eAttfAkC52tjoa779nX9kXwv8As769qHiyL4n%2BLvGGrXnh7TfD9tqXjC5s3ksNH09rhrSxiFpbW6lEa6nYyyrJPIXHmSvtXbS8cf8AKQv4X/8AZGfHn/p28IUmlJNMunOVKpGcd0016ppr8UcD/wAEWNZbXP8AgmR8LbiQnfBZajaup6qYdTu4sH8EFfUlfJf/AARb/wCJd%2BxlP4M6f8I38RfEembP7u3UZZMf%2BRK%2BtK8vI23k2Hv/ACRX3K36H3XipCNPxLznl2eJrSXpOftF%2BFRBRRRXqnwQUUUUAFFFFABRRRQAUUUUAFFFFABRRRQAUUUUAFFFFABRRRQAUUUUAFFFFABRRRQAUUUUAFFFFABRRRQAUUUUAFeM%2BOP%2BUhfwv/7Iz48/9O3hCvZq8Z8cf8pC/hf/ANkZ8ef%2BnbwhQB7NRRRQAUUUUAFFFFABXjP7B/8AyRDXP%2ByzfEf/ANTXW69mrxn9g/8A5Ihrn/ZZviP/AOprrdAHs1FFFABRRRQAUUVyXxy%2BOnwq/Zu%2BGWpfF/4z%2BMbbQ9A0qLdc3lySS7H7sUaDLSSMeFRQWY9BUVKkKUHObSS1beiSIq1adGm6lSSjFK7bdkkt22dYzKil3YAAZJJ6V8h/tL/8Favhx4Hv9Y%2BHf7K/h6D4m%2BKdFhL6/qsWpJa%2BG/DSZ2mbUdTciJADx5aMSzApuVyAfBP2s/2oPin%2B0h4OtPFv7Qv/AAk3wu%2BDXiC4Fv4L%2BE3h8f8AFcfFKRiAkTomTZ2j7l3AdVfB374mr0X9mb/gmJrXxWsdG8Vfth%2BBNG8J%2BCNInF34N/Z28Kt/xKtOfHy3OrSj5tSvCMbi5YZzkkM0Q%2BWxOb4/MKv1fLY27ya1SfXVe4n0ck5y3jTS949rIuGsZnuXrOcxrvAZW21Gq4KWIxLj8UMHQlZPtLEVeWjTvd80rQfzb4c%2BCX/BQv8A4LK%2BJ1v/AIjfHK8sfhTFdZu9ZsNNm07Qbja/Mel2L7ZtRwRxdXW0Ll1IyoDfpJ%2ByF%2Bwn%2BzZ%2BxD4N/wCEV%2BBXgSK2up4lTVfEV9ibUtSI5zNPgHbnkRqFjU5IUZNet2FhYaVYw6XpdlDbW1tEsVvb28YSOJFGFVVHCgAAADgAVNXflmQ4XAVPrFRupWe85av0je/KvTXu%2BhrmGY5WoPC5NhI4bD7PX2ler/exGImvaVZPfkj7KhDanQSSkyiiivdPDCiiigAooooAKKKKACiiigAooooAKKKKACiiigAooooAKKKKACiiigAooooAKKKKACvGf2X/APkt/wC0d/2Wax/9QrwvXs1eM/sv/wDJb/2jv%2ByzWP8A6hXhegD2aiiigAooooAKKKKACiiigAooooAKKKKACiiigAooooAKKKKACiiigAooooAK8Z8cf8pC/hf/ANkZ8ef%2BnbwhXs1eM%2BOP%2BUhfwv8A%2ByM%2BPP8A07eEKAPMf%2BCTH/Es0b4%2B%2BDG4/sT9pnxXbwp6Qs1u6H8dxr60r5L/AOCdX/Em/ab/AGq/BnTyPjBHqWz0%2B2WaSZ/HZX1pXk5HplkI9nNfdUqI/QPFH3uOcTW/5%2BRw9T/wPCYSX4u7%2BYUUUV6x%2BfhRRRQAUUUUAFFFFABRRRQAUUUUAFFFFABRRRQAUUUUAFFFFABRRRQAUUUUAFFFFABRRRQAUUUUAFFFFABRRRQAV4z44/5SF/C//sjPjz/07eEK9mrxnxx/ykL%2BF/8A2Rnx5/6dvCFAHs1FFFABXO/Ff4r%2BAfgj4CvfiZ8TdcbT9HsHgjmmis5rmWSWaZIIIIoIEeWeaWaWOKOKNGkkkkREVmYA9FXkH7a/w38ffEP4T6RffDLwy2u6x4T8f%2BHfE8Ph1LuGB9Wi0/U7e4nto5J3SJZjCkhi810jMqxh3RSXUA27L9q34CX3wLuv2kU8dND4QsZJ4b69vNIu7e5trmG5NpJaSWUsS3SXQuVMH2VohMZcRhC5CmuP2wP2eY/gb4g/aM1Lxxcab4V8KeeviSbWfD9/Y3umywhS1vNYXECXiTkPHsgMPmy%2BdF5av5ibvG/CvwJ8d%2BJ/2dvih4e%2BMn7P3jO2u/Hfje88cafoHhzX9GXUtLuEv4JNOt4Z2vfsy6lEbC1vSWc2glk2edKA2fMIP%2BCe/wC2H45%2BFHjfxZ/wtqTStb8W/EnUPGcnhL4saDaa/eajKnhzT9F09b1tH1CxsYLiNrBrqNYGktoXktTtZ7VXoA%2B7fBni/wAO/ELwfpPj7whqP2zSdc0yDUNLu/JePz7aaNZI32uAy5RlOGAIzggHivK/2D/%2BSIa5/wBlm%2BI//qa63V39nP4VfF3w3%2Bxb4G%2BDfxE8dy%2BH/GOmeBNN0zU9b8KadapJp9zFbxoRDHdm%2BgZ0C7Cz%2BajkMwADADE/4J06Tf6D%2BzdfaJqvie%2B1u5s/i38Q4bjWNTjgS5vnXxnrQM0q28UUIdyNxEcaJknaqjAAB7pRRRQAUUV5B%2B11%2B2t8IP2PPC1re%2BNpLvV/Emty/Z/CPgfQYvP1XXbonasUEK5O3cQDIRtXIHLFVbGvXo4Wk6tWSjFbt/19yV23ok2YYnE4fB0JVq8lGK3b/rd7JK7bskm9Dd/ab/af%2BD/7I/wqvPi78Z/EX2OwgYRWVnAokutSuWB8u1tosgyyuRwOgALMVVSw/Pf4rfEf4p/E34xeGviz%2B0z8LX8W/FXWH8/4BfsuW8u%2B18NxNnZrWungCQAbz5m3btI%2BTa3kV9a1z9on4n/tN2WteLfDGmeOf2l7y383wh4A87z/AAx8E9Ncgi%2Bv3GUlv8FGwctu2nBPkofuL9jX9iHwZ%2BylpmpeK9Y8Q3XjH4keKn%2B0eOPiHrQ3XuqTHBMaZz5NupACRKcAKuckDHyc6mN4hxPJBclKL6rZrq1tKp1jB3jT0lU5p2hH63J%2BF8FhMHR4h4wpP2Ukp4TANuM8R1jiMXb3qWGurwp6VK1vdSjzVY89%2ByN%2Bwje/DbxrcftRftTeMk%2BIHxp1qHbeeIZo/wDQ9BhIP%2Bg6ZEQBBEoYqXADPlvuh2U/SNFFfU4XCUMFR9nSVlu%2Brbe7berb6t/lZLjz/iDNeJcweMx8%2BaVlGKSUYQhHSNOnCNo06cFpGEUkt9ZOUpFFFFdJ4oUUUUAFFFFABRRRQAUUUUAFFFFABRRRQAUUUUAFFFFABRRRQAUUUUAFFFFABRRRQAUUUUAFeM/sv/8AJb/2jv8Ass1j/wCoV4Xr2avGf2X/APkt/wC0d/2Wax/9QrwvQB7NRRRQAUUUUAFFFFABRRRQAUUUUAFFFFABRRRQAUUUUAFFFFABRRRQAUVHe3tnp1nLqGoXcUFvBE0k880gVI0UZZmY8AAAkk9KwPhb8YfhJ8cfCq%2BO/gp8UvDnjDQ2uHgXWfC2t2%2BoWhlTG%2BMTQO6blyMrnIzzQB0deJeP9Tsbb/go18KNMnuFSe5%2BC/j9oEY437NW8H7gPUgEHHpk9jXqvhj4ifD/AMbaprWh%2BDPHOj6ve%2BG9SGneIrPS9TiuJdLvPKSb7PcpGxMEvlSxyeW4DbZEbGGBPxP/AMFM/ivf/Ar/AIKZfsdfFLzXTS0PjDRtfcf6uO01Gbw9Z%2BZIeyJJJE%2BfVVrmxeIjhMO6stla/o2lf5XucmOxcMDhZV57Rtf0coxb%2BXNf5Hefsh/8ST/gqD%2B1l4bPEd4PBWpWy%2Bu7SpUkP/fQFfWlfJXwpZdB/wCCzPxX0gsFOv8Awc0LUwufveRctbZ/DOK%2Bta4sn0w9SPapVX/k7f8A7cfpfiR7%2BcYOv/z8wWBl92GjTf40mFFFFesfn4UUUUAFFFFABRRRQAUUUUAFFFFABRRRQAUUUUAFFFFABRRRQAUUUUAFFFFABRRRQAUUUUAFFFFABRRRQAUUUUAFeM%2BOP%2BUhfwv/AOyM%2BPP/AE7eEK9mrxnxx/ykL%2BF//ZGfHn/p28IUAezUUUUAFFFFABRRRQAV4z%2Bwf/yRDXP%2ByzfEf/1Ndbr2avGf2D/%2BSIa5/wBlm%2BI//qa63QB7NRRXgn/BQH9rPWP2aPhjYeGfhRpK618UvH9%2BND%2BGvh5QGae%2BfANzIp6QQBhI7H5c7FYqG3DDE4mlhMPKtUekfv8AJJdW3ZJdW0jmxmLoYDCyr1naMV6t9EkurbaSW7bSM79sv9uLUPhB4k0/9mr9mzwlH45%2BNfiiHOh%2BF4nzb6TAeuo6i4I8i3QHdgkF8YBAJYfL/iD4YeNvgz8YYvg38K/HH/Cz/wBsH4j6f5vjH4patH5lp8O9HcYkmgjxttEVXKwxgB33AkANFC3oOraPo3/BLf4NWnhn4e2z/Ej9p74z3gto9Tv5DPea7qzgGW6lZsGLT7YsW2/KuAu4gs7r77%2Bw9%2Bxxpf7J3gG9u/EviB/E3xE8XXX9p/EXxtd/NPq1%2B2SVViAVgjLMsaYAAycAsa%2BXnRxea4xQqu0lZuz0pJ7RT2daS3l/y7jfls3Fv7LhPIMNk2Ap8ZcT0o1Kjb%2Bo4SWsJTjo69VbTpUZWUm1atWXsKdqcK85bP7I/wCyB8J/2OvhufA/w6tZrvUb%2Bb7X4o8U6m/m6hr18cl7m5lOWYlixC5wu445JJ9Voor6qhQo4ajGlSioxWiS/r/h93dni5pmmY53mFXHY%2BrKrWqPmlKTu2/0SVkkklFJRioxSSKKKK1OAKKKKACiiigAooooAKKKKACiiigAooooAKKKKACiiigAooooAKKKKACiiigAooooAKKKKACiiigArxn9l/8A5Lf%2B0d/2Wax/9QrwvXs1eM/sv/8AJb/2jv8Ass1j/wCoV4XoA9mooooAKKKKACiiigAooooAKKKKACiiigAooooAKKKKACiiigAooooA8i/b7%2BH3jT4rfsUfFP4cfDzRpdT1nWfA2o2tlpEDhX1MtA26zUsQoM67oRuIX95yQMmvLPgxrvxL8UeNPjv8UfgD8PNX8NXfj2xs4/hjD8RfA%2Br6NZ3Os2GipC99fQy2omtLcyPZ226WNHmWwfyVkVEY/WFFAHx9/wAEtvgt8f8A4FeP/jh4S%2BMHwc0nw5Y3Xi3SLyx1rT/Ft5q51%2B8bQdPW9vTPcaXYi5aWdXllnVebmW4jKDyg78H/AMFQPgB8Xvjr8TtT8F%2BI/F2ganayfs/eO9V%2BH%2BnaL4YuLK/0%2B6sdY8IXaJNdPezLdO7wxorRw2%2B0FgQ275fv2vGPHaq//BQj4YI6gqfgx48BBHBH9reEKwxWHhisNOjPaSafzTX9ehzYzC08bhKmHqfDOLi/mmv1v8j5f%2BMnxl8rwJ%2Bzf/wWN8Pf6qy02y0L4tfZl4fRtR2xXDPj7wtb7cVUYy7j0r9BIJ4LqBLq2mSSORA0ciMCrKRkEEdQRXxB%2BwP8KfC3iH4O/tCf8EwviJAW0vwX421TTLC1x80Gg6sjXVjIoP3XBeaRT2YKR0r0b/glR8WfFfib9ni6%2BAHxWud3jn4M63N4N8TK7HdMlsdtpcjPJSS3CAOfvmN2718/k%2BInCvH2n/L6N35VafuVF/28oqXqmfd4HFVOL/CnCY6pristaoVe7oVJT9nJ%2BVLExrUvKNamtFY%2BnKKKK%2BnPjQooooAKKKKACiiigAooooAKKKKACiiigAooooAKKKKACiiigAooooAKKKKACiiigAooooAKKKKACiiigAooooAK8Z8cf8pC/hf/ANkZ8ef%2BnbwhXs1eM%2BOP%2BUhfwv8A%2ByM%2BPP8A07eEKAPZqKKKACiivEP2/vEniLQvgno2kaJ4r1LQLTxJ8S/Cvh/X9c0fUJLO6s9OvtatLa4EVzEyvbPMsn2YTIyvH9o3IyOFYAHt9FfIPhCL9oHxx%2Bxr8V/hf8F/H%2BvarqPhf4r6loHhLWb3xVJ/auo6La6pbtd2EeqXDmT7WIjf6bFdyyeYkkUbPLvRpK4HwF8SdMvvgn8VNM%2BPy/GPTNL8G/G5vDnwn8G6Z8YdRfxTrNzNoWlzppDanp2otJfzi/ur8bXvJobdY2E0gSzdowD78rxn9g//AJIhrn/ZZviP/wCprrdb3wfT43/Cv9lHwnbfGCxv/HvxD0PwVp0PimLQJ7RbjWdVjt41uWhkupLaAlpQ7bneJW64XIWuT/4J06tf69%2Bzdfa3qvhi%2B0S5vPi38Q5rjR9Tkge5sXbxnrRMMrW8ssJdCdpMcjpkHazDBIB7D418Y%2BG/h34O1Xx/4y1WOx0jRNOnv9UvZjhYLeFDJI59gqk/hXxF%2Bzr4ptdZ07xp/wAFsP2vbWTT7EeH50%2BFXh25IZtC8NqSI2QE4%2B2XrsACOolAB2y7V7L/AIKca5rHx48XfD7/AIJs%2BAtRlhvPihqY1Hx7dWr4fTvC1k4kuGJH3DO6CJD0Yo6H71Y37ROiaR%2B2H%2B2D4O/4J6%2BCtPij%2BGXwltrLxL8Vra1XFtI8agaVohA42kASvGeDHgjDR18xmWJnWxbUFf2bUYLpKtJaX7qlH3n2bvukdvBuQYXjHjJxx0nHL8BF1sRJdoJSkl057ShSpJ/8v8RF2fI7dR/wT7%2BAnj7xx4jvv%2BCiP7U9mrfEb4gaen/CN6K%2BWi8H%2BH2%2Be3sYQwG2V1IeVsBiWIIDGTd9X0AADAGAOgFFe5gsJTwWHVOLu923vKT3k/Nv7tEtEj0uJuIcXxPm88bWioRso06cdIUqUNKdKC6RhGyXWT5pybnOTZRRRXWeAFFFFABRRRQAUUUUAFFFFABRRRQAUUUUAFFFFABRRRQAUUUUAFFFFABRRRQAUUUUAFFFFABRRRQAUUUUAFeM/sv/APJb/wBo7/ss1j/6hXhevZq8Z/Zf/wCS3/tHf9lmsf8A1CvC9AHs1FFFABRRRQAUUUUAFFFFABRRRQAUUUUAFFFFABRRRQAUUUUAFFFFABRRRQAV4z44/wCUhfwv/wCyM%2BPP/Tt4Qr2avGfHH/KQv4X/APZGfHn/AKdvCFAHjX7YMHjL9hn9qmH/AIKO%2BE9Im1fwF4g0q08PfGzR7S3L3FjbxvttdZiC8v5W4RuvZBx98tHH%2B0r4e8dfs8/FVf8AgqZ%2ByFGPGPhrxHodl/wtzwfpTLJ/b2jxR5g1eyYfeuIITnGcNGOw35%2Bxdb0XR/EmjXfh3xDpdvfWF/bSW97ZXUQkinhdSrxurcMrKSCDwQa%2BHvC3ijxv/wAEevFd/wDDz4h%2BH9Z179mnVtVNx4T8W2SveTeAXncmSxvIwDI1n5jZSUZK7sfOzlR8xmOFjhJuUpONKUuZSW9Kp/N/gl9q%2Bibd/dk3E4c4lr%2BHueVMXKmquBxClCvSlfkcZuLnGTWsYTcYzVSPvUK8IVU0rn2J8G/jH8OPj/8ADLR/i/8ACbxPBq%2Bga5aC4sL2A9R0ZGU8o6sCrIcFWUggEV09fEV/8HPi7%2Bydrl9%2B1x/wTMl0vx98MPGUo1jxV8HrG8QwXLMPnv8ARJkyscrAZMABVsbVDYjRPov9lf8AbE%2BBn7YXguTxZ8IfEjNdWUnk694c1OL7PqejXAJDQ3VuTujYMCNwyjFTtY4Nelgsx9rNUMQlGrb/ALdmv5oPqnva/NG9mrWk/uOIOE6NLBPO8hqPE5dJr39HUoOWqpYmMfgl0jUS9jWSUqc026cfUqKKK9U%2BHCiiigAooooAKKKKACiiigAooooAKKKKACiiigAooooAKKKKACiiigAooooAKKKKACiiigAooooAKKKKACvGfHH/ACkL%2BF//AGRnx5/6dvCFezV4z44/5SF/C/8A7Iz48/8ATt4QoA9mooooAKzfGPgzwf8AETwtf%2BB/iB4U03XdE1S2a31PR9YsY7q1vIWGGjlikBSRCOqsCDWlRQBxVv8As1/s52ngt/hva/AHwVF4dk0P%2BxZNAj8K2a2Tab5jSfYjAI/LNvvd38rGzc7HGSTWb4h/Y5/ZF8XeAdE%2BFPiv9lf4can4X8MzvN4b8N6j4HsJ7DSpHDB3trd4THAzB3BKKpIds9TXo9FAGf4U8J%2BFfAfhqx8F%2BB/DOn6No%2Bl2qW2maTpNklvbWkCDCRRRRgJGigABVAAHQV5L%2Bw1d21h8BvEN9ezpFDD8YviRJLLI2FRR401skk9gBXtVfEHxO%2BL0nwP/AOCTHxs8c2k7R3knj/4maXprJ98XN9431mziKjuytOGH%2B7WGKxEcLhZ1pbRi39yb/Q5sbioYLB1MRPaEZSfyTf6W%2BZg/syfGPTdM%2BGXxy/4LTfFm0%2BTxFb3Vp8O7G7O1rfw9YSGCztl/55vd3arvXoXCsPvV7l/wTF%2BAGv8Awb/Zst/HfxOaS5%2BIXxNvG8W%2BPtQuExK97efvFgI/hWGNlTYPlVvMIxurwj4p/CKPXrj9mH/gkpp0IfT9H0Sx8WfFiGPlW03TEULFKB1S6vt4Poyoa/QLp0r5/JsNKWI5qmvslZ%2BdWpadV%2BqvGHlqj7vDYWpwh4WYLLpaYnMn9arvr7KEpRoxfW1Ss69e2zVOlulEKKKK%2BnPjQooooAKKKKACiiigAooooAKKKKACiiigAooooAKKKKACiiigAooooAKKKKACiiigAooooAKKKKACiiigAooooAK8Z/Zf/wCS3/tHf9lmsf8A1CvC9ezV4z%2By/wD8lv8A2jv%2ByzWP/qFeF6APZqKKKACiiigAooooAKKKKACiiigAooooAKKKKACiiigAooooAKKKKACivMP20/i94q%2BAf7JnxD%2BMfgaO1Ot%2BH/Cl5daO99EXt4boRkRSyqCC0SOVd1yMqrDIzkcj%2Bznr/wAaD49%2BLv7M3jj446p4pvvCK6XN4e8eapo2nQ38SajYM3lzRWdvBayPBPDLIuIVzHNEjhypdwD32vGfHH/KQv4X/wDZGfHn/p28IVi/sUeO/if4v8afEvRdT%2BM%2BsfEjwL4e1q10zwr478QaXp1tc32pRJKmrW0bada2tvc21vMsMSzLCD5/2uIu/k8QX/xO8N%2BMf%2BCm3gvwZpOm%2BIYbzw98HvHEd/NqvhHUbG0lL6t4Swba6uYI4L0DactbvIFyNxG5cgH0PUGqaXpmt6bcaNrWnQXlndwtDdWl1Cskc0bAhkdWBDKQSCCMEGp6KGk1ZiaTVmfHev8A7Bf7QH7JfiPUPiV/wTJ%2BJljpel31015q/wAFPGO%2BXQLyU8u1lKDvsJGxwFOwnALKihR414/8dfsjftD/ABbt7z45W/ij9kP9pa0XbaeJZpRaRX7jC5%2B2Dba6nbMQq/vDG7gBFYr1/Smua%2BKvwb%2BFHxz8JzeBfjF8O9H8TaRPy9hrVglxGGxjeu4HY47MuGHYivAxWRwlTccO0o78kruF%2B8bNSpvs4SSX8plkmJ4g4Ox/17hrFvDzs04P3qM4v4oODulCX2ocs6b60uq%2BV9N/bj/ao/Y6hi0f/goT8HZPEPhNAv2X44/DGzN3p8kJHyzX9kg8y0OMFnQbCWwiEDJ%2BpfhD8bfhH8ffB0Pj/wCC/wARdI8TaPPwt9pF4sqo2M7HA5jcd0cBh3Ar5muf%2BCZfxR%2BADy6l/wAE8/2t/EPgKzLM4%2BHfi8HXfDcmesUcc5MtqG/idS7elfMnxX%2BCvxc%2BDXi6f4n/ABM/Yx8a/CfxWhJuPi/%2ByfqZvtLvDnJkvNFdlZYM5Z92xnyc56Hz1j83yrSvBygu/vW9KsU7/wDcWnF959T7F8U8DcQaZ9g55TiXvWw8JYjBTfedGDdXD33bpc0Fr%2B6S0P1cor80fgP/AMFfPjj4bMWj%2BItU8FfH7SI28s6j4IuhoXi1AOD52h3ojNzLnI2Wo2jj5z3%2BsfgR/wAFOP2MP2gNTHhTQPi7b%2BH/ABMsnlXPhDxrC2k6nDN/zx8q42iRx6RM9erg%2BIMqxtlGooyfSVl9zu4v5SfobVuB86ngJZjlUqePwkdXWwk1iIRXepGH72j6VqNO219D32igEEZBor2j44KKKKACiiigAooooAKKKKACiiigAooooAKKKKACiiigAooooAKKKKACiiigAooooAKKKKACvGfHH/KQv4X/APZGfHn/AKdvCFezV4z44/5SF/C//sjPjz/07eEKAPZqKKKACiiuO%2BPHxs8Nfs/fDqX4ieJtI1PVN2pWOmaZouiQxyXuqahe3UVpaWkCyyRx%2BZJPNGu6R0jQEu7oiswAOxorx2H9tj4ZL%2Bzvqv7QureE/Eunromvt4f1XwfdWdu2sQa3/aCadHpmyKd4GmlupYY43WYwOJ45BL5bb6x7n9v3wfHocNpZfA7x7eeOZPGs3hWX4V2qaSdcttSi01dVkWR21AWCxjT3huvN%2B1lClxCoYyyLGQD3qvze%2BJ8ifE7w/wDBX9kxHDR%2BM/2vfiFretwE8S6Vo3jDXLu5RvRTvQ5PdK%2B/fg98VvB3x0%2BFfh74x/D67mm0XxNpEGo6a1zAYpVjlQMEkjbmORclXQ8qysp5Br8svBvxIN18bf2ifi8s/wDon7P3hD4n2djz/qNf1jxlr8sLZ7FoNqevf2rxM/qxp4DkltKST/wq85f%2BS0395xYrL62d4nCZPR%2BPF16NFf8Ab9SHN/5KnfyufWX/AATEgn/aA8efFb/goprsLMvxI8Svo/gQyg5h8N6Yxt4WUH7hmlR2dem6IHvX1/XjX/BPD4a/8Kj/AGGfhT4Dkt/KmtvA9hPeRYxsuJ4hcTD/AL%2BSvXstdOUUZUctpqfxSXNLzlP3pfjK3okuh%2Bg%2BImZUcz40xssP/ApTdGkuio0P3FJL/tyldvrKcpfaCiiivSPiwooooAKKKKACiiigAooooAKKKKACiiigAooooAKKKKACiiigAooooAKKKKACiiigAooooAKKKKACiiigAooooAK8Z/Zf/wCS3/tHf9lmsf8A1CvC9ezV4z%2By/wD8lv8A2jv%2ByzWP/qFeF6APZqKKKACiiigAooooAKKKKACiiigAooooAKKKKACiiigAooooAKKKKAMzxp4N8K/EXwdq3w%2B8daBa6romu6bPp%2BsaXexB4by1mjaOWGRTwyOjMpHcE1wPgX9jf4D/AA38Mar4T8Iad4ngt9dW7/ty7ufiFrdze6i1xaxWjPPeTXj3E0iW8EMUMjyFrdY1EJjxXqNFAHnf7OX7LPwd/ZQ8Hr8P/gjbeJLPQ4bS2tbLStb8d6xrMFhBAhSKK1TUbqcWqBWxth2BgF3A7Vxzvjj/AJSF/C//ALIz48/9O3hCvZq8Z8cf8pC/hf8A9kZ8ef8Ap28IUAezUUUUAFFFFABRRRQB5d8c/wBij9kz9pVJW%2BOH7P3hjX7mVdrancaasd6BjGFuotsy/g46Cvlf43f8EBfgd480w2Pwq%2BPXjLw3FHC0Wn6T4h8rxDp1gp7QRXYEsP1WbPvX3zRXmYzJcqx93XoxbfW1n96s/vuc1LCUcNjo47DXo147VaUp0qi9KlKVOf8A5M/NM/KnR/8Agnh/wWu/Yxfd%2ByX%2B0xpXiXRLUKtl4aOuuIdo6j7HqqyQRbh3jmBHqMCu08P/APBWX/go3%2Bz9t0/9tz/gmr4iuLSD5brxN4Ksp1iQDqxA8%2BB2PtNGPTiv0iorzafDksH/ALjiqlNfytqcf/AZrT5NHuYriDiXHL/bMSsS%2B%2BIpUqs//B0Y4eu/WVSo%2Brber%2BRfgv8A8Fxf%2BCdPxhkh0%2B9%2BMFx4N1KVtp07xtpcll5Z7h5132y4PrKK%2BnvAPxP%2BGvxW0b/hIvhd8Q9D8Safu2/btA1aG8hz6b4WZc/jWP8AEz9nD9nz40A/8Ld%2BBvhHxOxGBJr/AIctrt14xkNKhKn3BBr508f/APBDL/gnr4suRq/grwBr3gLVRMZE1jwR4pureZD/ALCTtNEgHbbGK6k%2BIcOtVTq/%2BBU3/wC3x/I8GpVzJz0pU/lOovwlGflZcz82fX9FfCOsf8Ewv2%2BPhjI97%2By7/wAFYfHYjj4s9G%2BIsJ1SNQOgMzu6gewgxXKaz4n/AODjL4D5ln8KfDP4s20H%2BsubKG3RnUd/LR7GQn2VCfas551iMP8A7xg6q84qNRf%2BSSv/AOSnXhsNnGJ0hh1J9o1qDfyU50G/kfozRX5eav8A8Fy/24fgVGz/ALUf/BNLU9NSI4muon1DTIiO7o89tNGw%2Bj/jXX%2BBv%2BDjn9nXXHt7bxb%2Bzz46tbi5ICQeHrrT9VfP%2B4LiKTH/AAHPtWcOLcglLlnV5H2lGcX%2BMTvxOTcR4Kh7fE5bioU/53hq8of%2BDKVOvT06%2B/ZdWj9FKK%2BRtP8A%2BC3X7BsUMc/j/XvGXg5ZcbW8T%2BAdRjHPvDFKP1xXc%2BE/%2BCqf/BOvxnt/sf8Aa/8ABcO/p/a2pfYPz%2B0iPH416NPOcoqu0cRC/wDiSf3NpnzUM%2BySpPkWJp37OST%2BalytfNI%2BgKK4jwv%2B0x%2Bzh442/wDCF/tA%2BCNY3/c/svxXZ3G76eXIc12kFxBdQrcWs6SRuMq8bAgj2I613wq0qqvCSfo0/wAmz0qdajWV6clJeTT/ACbH0UUVZoFFFFABRRRQAUUUUAFFFFABRRRQAUUUUAFFFFABXjPjj/lIX8L/APsjPjz/ANO3hCvZq8Z8cf8AKQv4X/8AZGfHn/p28IUAezUUUUAFeX/tb/Bvxn8Z/hhYWPw1vNMi8TeGvGGi%2BJdAj1ueSKyurjT7%2BG5NrPJFHI8STRpJD5qxyGIyCQJJs2N6hRQB82%2BDv2YPiuvwJ%2BIvgf4ufDPwF4n1P4ja5qHibVdFHjO/t9PTUZ7hPIsUuk0/z4o4Le3tCuoJGJvtCNItvFhceffDL/gn38dfgXPZfHj4Y2XhG5%2BIcnxR1LxTrHhPX/H%2Br3emSWt5oNvoptf7bubS4vridUsbK6N1NbEySefHsjR0aP7TooA8q%2BAX7NEXwx/ZK8O/s0%2BNfFF7ezWWgrba7q/h3VbvSZJ7t2MtzLbTW0sdxbKZnkKbJA6oQCx5J/Mqx%2BCZ%2BHn7CXx28E6VPfi9%2BOn7bGr%2BCdEu7/Up7y7nsbbxVcwxB7i4d5riTda3YaSR3d9zFiSST%2BxVfnHZf8XH/aF/Z2%2BBafvILf8AaO%2BL3jHU06iH%2BzfFOtG2cj3lkZQfWvD4goxrYCz3bUV61Gqb/wDJZSPuPDPDUpcfYHMKi0wXtsV5Xw%2BHrVE//Ao0/vt1P0XsbG00yxh02wgWKC3iWKGJBwiKMAD2AAFS0UV7mx8Q25Nt7hRRRQIKKKKACiiigAooooAKKKKACiiigAooooAKKKKACiiigAooooAKKKKACiiigAooooAKKKKACiiigAooooAKKKKACvGf2X/%2BS3/tHf8AZZrH/wBQrwvXs1eM/sv/APJb/wBo7/ss1j/6hXhegD2aiiigAooooAKKKKACiiigAooooAKKKKACiiigAooooAKKKKACiiigAooooAK8Z8cf8pC/hf8A9kZ8ef8Ap28IV7NXjPjj/lIX8L/%2ByM%2BPP/Tt4QoA9mooooAKKKKACiiigAooooAKKKKACiiigAooooACARgivNviV%2Bxv%2Byb8YvMk%2BJ/7NvgjW5pc7ru%2B8M2zXAz1Im2eYp9wwr0mis6tGjXjy1IqS7NJ/mmduAzLMsrr%2B2wVedKf80Jzg/vhKL/E%2BT9W/wCCLn7DMV3Lqnwu0Dxd8PL6Y5kvfAvji/s3z6hZJJEH0Cge1cH4r/4IweKfmPgL9tjWr1f4Yvit8P8ARvFwcf3Xa7iUnPTNfdlFeVU4fyaov4Kj/hvH/wBJaX4H10/EzjfEQUMdi/rUe2Jp0MUvT/aKFWVv%2B3z8yvFH/BIf9pfTN234H/sp%2BPrYf6z7X4S1Dw3dyD/Y/s1kiQ/XiuMuP%2BCf/iz4dzNcat/wR11qzAOZda%2BEf7RU%2B7Pqlrcys/8AKv1oorgnwnlrd4Nr1UJf%2BlQv%2BPzPOqZ3wrj3fMuG8uqv%2BaOHlh5f%2BBYatTV/%2B3EvI/JT7J8N/AHyeJl/4KJ/Cny/vXFtqM11pq/9tFEm8D6Vp%2BG/2jfgQ93/AGZ4P/4Lx/FXw7eocGy%2BIXgx53iPo7XNsiH/AL6r9WKzfEng7wj4ytPsHi/wrpuqwYx5OpWMc6fk4IqP9XK1P%2BFVXzjOP406y/Iy%2Bq%2BD2J/iZJXw774fH1bfKNeE/u5l6nwX4O8aftHeIdi/C7/gv38KPFBb/V2GreBtBjmHoGEVx5n4lQa9I0rwx/wWT%2ByLqHg79pf9n3xXAfuT6j4bv4Uf8bViPyr1rxj/AME8f2FPHu9vE37Inw8lkk%2B/cW3hS2t5W%2BskKKx/OvN9V/4Ip/8ABOi5vG1Tw18Fr/w3enpe%2BG/GGp2rr9FFwUH/AHzR/ZebU9nf/DXrR/8AS41F%2BIf6r%2BEWI/g5hmeG/wASpV0vnCvB2/7db8it/wAJJ/wW90Mf8TL4bfs3a5j/AKA%2Bsa1bFv8Av%2BOKP%2BGgP%2BCvujf8hP8A4J9eA9ax1/sf4rw2276eehx%2BNL/w6Y0PQD5nwt/bq/aL8Lbf9Xa2XxMaa1H1ilibd/31R/wwx%2B3v4Z5%2BG3/BWjxZCq/ci8VfDzTNX3D0LSMp/HrR7HN6e6rfKrRn/wClQiH/ABD/AIRrf7pxZKPlWw%2BIh97VKuvu0E/4bT/4KS6Vx4m/4JD6qoHV9J%2BMmkXefcKsYP4Uf8PF/wBpzTP%2BRn/4JUfGCLH3v7KuLO9/LYwzS/8ACqP%2BCzHhX/kA/tZfB3xXt6f8JR4EuLHf9fsbHH4Uf8Jz/wAFrPC//Ic%2BBfwC8U7ev/CN%2BJtSsS/0%2B1g4o9tj4fFPEL1pUpf%2Bkv8AQP8AiF2YVP8Ac%2BJsHU/xVqcH91bC0vxkhP8Ah6rrOnceJP8Agml%2B1BbY%2B89n8MVuUX6stwOKP%2BHwXwetP%2BRi/ZZ/aA0fH3v7S%2BFNwu367ZGpf%2BGv/wDgpx4c%2BXxh/wAEoWvYl%2B9eeHPjFpk2fpC6B/1o/wCHmHxm0D/kf/8Aglz8fLbb9/8A4R3QbfVsfTy5VzR/aFaPxYqS/wAWGa/JB/xCTxHl/u2Mw9b/AAVsvn%2BWMpv8EJ/w%2Bn/YstePEFt8QtJ/vf2j8ONRXH12xtTo/wDguJ/wTKVxDqn7Ql3p8h/5Z33gjWUP6WhFJ/w%2BG%2BBumf8AI%2Bfs5fHbwtj7/wDwkHwsuY9n18tnp9v/AMFsv%2BCalzJ/ZviL453ekTt1tdb8FatEfxP2Ur%2BtH9rNf8x9Ff4oOP5ziJ%2BEPjUlengp1F/cwzqL76OIqo07D/gs1/wTK1LH2f8Aau0lc/8APxo%2BoRf%2Bh24rasf%2BCrv/AATm1HH2f9rzweuf%2Be948X/oaismw/4KM/8ABKzxxjzP2hfhvLv/AOgtEkH5/aI1x%2BNbNj8V/wDglj454sfiH8A9UZ%2BqDU9Flb8VLE/mK6YY7F1PgxVCX3/pVZ42K4G8VsB/vGBnG382Excf/bWvxNSy/wCCkv7AGoY8j9sn4cLn/nv4ttYv/Q3Fa9n%2B3f8AsP6hgWP7ZHwrlJ/hT4g6aT%2BXnZrMsfgl/wAE7PG%2BP7N%2BEXwW1ff08jQNIuN35Ic1auv%2BCf37B2pr5kv7GfwqYMM74vAOnLn8VhFdcZZ1JXjKi/8AwZ%2BjZ8/Ww3FuFly1oUovtKNeL%2B5pG9Z/tbfsqahj7B%2B018PZ89PJ8Z2LZ/KWuBufiN8PfiD/AMFCPhtJ4B8eaNri2vwZ8dfaW0fVIbkRbtW8I7d3lsdudrYz12n0q5ef8Eyv%2BCfF9kzfsc/D5c/88fDcMf8A6ABXF%2BAv2U/2dP2ZP%2BChvgV/gD8ING8KHXfgz41/tf8AsiAxi68nVvCnlbhk/d82TH%2B%2Ba3oPNfapVo0%2BXryud/kmrfiPDSzv2yWIjS5Ori6l/kpK2/mfU9FFFegeoFFFFABRRRQAV%2Bcf/BOX/i6H/BTb4j60f3lp8LofHOkbOohvtR%2BIOuXW/wBmMAK/Sv0cr4U/4It%2BAWtPiB%2B1l8Xp7fZJr37Ufi7Skdhy8Vhq16VP03Xbj6g15mYU5Va%2BGgtvacz/AO3Yya/Fo%2B44QxVHL8rzrEyfv/VHSh6169CnL/ynGf8ATPuuiiivTPhwooooAKKKKACiiigAooooAKKKKACiiigAooooAKKKKACiiigAooooAKKKKACiiigAooooAKKKKACiiigAooooAKKKKACvGf2X/wDkt/7R3/ZZrH/1CvC9ezV4z%2By//wAlv/aO/wCyzWP/AKhXhegD2aiiigAooooAKKKKACiiigAooooAKKKKACiiigAooooAKKKKACiiigDN8Z%2BMfCvw78H6t8QPHOv2ulaJoWmz6hrGqXsoSGztYY2klmkY8KiIrMT2ANcr8JP2mPgx8bfCOseNvA3ie6isvDty1v4hi8R6Fe6LdaW4t47n/SbXUYYJ4AYJYplZ0VWjkV1JUg1mftqfCHxV8fP2TPiH8HfAr2o1vxB4UvLXR476UpbzXRjJiilYAlYncKjtg4VmODjB8XX4I/Hb9oDw/wDtDN4y%2BDWt/Dyb45%2BDZPDWi2ur6tpdzLoqwaLJaLeXpsbyZA01xeTLGsDTERWiNIYi4QAHu/wE/ai%2BCX7TVhf6h8HfE97ejTBbveW%2Bq%2BHb/SrhYbiPzLe4WC%2Bghkkt5kDNFcKpilCNsdtrY5nxx/ykL%2BF//ZGfHn/p28IVzv7I/gv426v8cvF37Q3xi%2BCd18PDqfw48JeELPw3f6vYXk002lTazc3N2r2M80YtmfVlihDMsuIJGeOPeq1y/wAZtB/aO8D/APBRvwH4q%2BEmuW/j%2BbWfhR43MXhb4geJ7bQ9N0C3XVPCe77HPp2iXFzMWYoClyZOBlZFwVcA%2BsKK8Z/4Tj/goX/0a/8ABn/w/Grf/MvR/wAJx/wUL/6Nf%2BDP/h%2BNW/8AmXoA9morxn/hOP8AgoX/ANGv/Bn/AMPxq3/zL0f8Jx/wUL/6Nf8Agz/4fjVv/mXoA9mor5x0n9o79u3WPjPr/wADrf8AZQ%2BEi6p4d8L6Rrt5cv8AHXVPIkg1G51K3hRCPDG4uraXOWBUAB48FiWC9R/wnH/BQv8A6Nf%2BDP8A4fjVv/mXoA9morxn/hOP%2BChf/Rr/AMGf/D8at/8AMvR/wnH/AAUL/wCjX/gz/wCH41b/AOZegD2aivGf%2BE4/4KF/9Gv/AAZ/8Pxq3/zL1y/gH9o79u34ieK/G/hDR/2UPhJDceA/FEWharJc/HXVAk88mlafqYeLb4YJKeTqMKksFO9HGMAMwB9HUV4z/wAJx/wUL/6Nf%2BDP/h%2BNW/8AmXo/4Tj/AIKF/wDRr/wZ/wDD8at/8y9AHs1FeM/8Jx/wUL/6Nf8Agz/4fjVv/mXo/wCE4/4KF/8ARr/wZ/8AD8at/wDMvQB7NRXzj8Iv2jv27fjL4Uu/F/hz9lD4SW1vZ%2BKNb0KSO9%2BOuqK5n0vVbrTJ3G3www2NNaSMhzkoykhTlR1H/Ccf8FC/%2BjX/AIM/%2BH41b/5l6APZqK8Z/wCE4/4KF/8ARr/wZ/8AD8at/wDMvR/wnH/BQv8A6Nf%2BDP8A4fjVv/mXoA9morxn/hOP%2BChf/Rr/AMGf/D8at/8AMvXL/BH9o79u348fBjwh8cfCv7KHwktdL8Z%2BF9P13TbbUPjrqizwwXdtHcRpIE8MMocLIAwVmGQcEjmgD6Oorxn/AITj/goX/wBGv/Bn/wAPxq3/AMy9H/Ccf8FC/wDo1/4M/wDh%2BNW/%2BZegD2aivGf%2BE4/4KF/9Gv8AwZ/8Pxq3/wAy9cv8bv2jv27fgP8ABjxf8cfFX7KHwkutL8GeF9Q13UrbT/jrqjTzQWltJcSJGH8MKpcrGQoZlGSMkDmgD6Oorxn/AITj/goX/wBGv/Bn/wAPxq3/AMy9H/Ccf8FC/wDo1/4M/wDh%2BNW/%2BZegD2aivGf%2BE4/4KF/9Gv8AwZ/8Pxq3/wAy9H/Ccf8ABQv/AKNf%2BDP/AIfjVv8A5l6APZqK%2Bcfi7%2B0d%2B3b8GvClp4v8R/sofCS5t7zxRomhRx2Xx11RnE%2Bqara6ZA53eGFGxZruNnOchFYgMcKeo/4Tj/goX/0a/wDBn/w/Grf/ADL0AezVFe2FjqUBtdRsop4m%2B9HNGGU/ga8e/wCE4/4KF/8ARr/wZ/8AD8at/wDMvR/wnH/BQv8A6Nf%2BDP8A4fjVv/mXosmNNxd09Ttdd/Z2/Z%2B8Ubv%2BEm%2BBfg7Ud33vt/hi0mz9d8Zrjdc/4J4fsHeIsnU/2OPhpub7z2/guygY/Vo41NM/4Tj/AIKF/wDRr/wZ/wDD8at/8y9cv4%2B/aO/bt%2BHfivwR4Q1j9lD4STXHjzxRLoWlSW3x11QpBPHpWoamXl3eGAQnk6dMoKhjvdBjBLLzTwWDq/HSi/WMX%2BcT2cLxLxJgf92x1en/AIa1aP8A6TVS/Ai1v/gj/wD8E19f3fbv2TPD8e7r9iuru2/LyZlxXPv/AMERv%2BCdFoxk8LfCXW9CcnO7R/HmrxkH1G65YV6b/wAJx/wUL/6Nf%2BDP/h%2BNW/8AmXo/4Tj/AIKF/wDRr/wZ/wDD8at/8y9ckskyabu8ND/wCP6JH0FHxQ8ScPHlp5ziku3t6rX3SlJfgeY/8Od/gLYf8il%2B0D8cdAx93%2Bx/ildJt%2Bm9Wqn8FP2Tk/Zd/wCChfgyO3/aN%2BKnj6HW/gz4y8uL4meL/wC1Rpvk6t4V4tT5aeUJPNG/ru8qPpjn1r/hOP8AgoX/ANGv/Bn/AMPxq3/zL1Q8D%2BB/2rPGP7Vnhz43fG74cfD3wzo3hn4e%2BIdDhh8K/EO%2B1q6u7rUr7RLhGZLjSLFIo0TS5QWDuxaVAFxkjShlWXYaqqlKmotdnL8ua34HLmnH/Ged4CeDzDGyq052upRpNuzTXvewU1qltUV9ndXT91ooor0D48K%2Bfv8AgpcdMH7Ndr/wmnl/8IV/wsLwv/wsj7R/x7/8I9/bNp9t%2B1Z4%2Bx%2BX/wAfO7939m8/zP3e%2BvoGigD879R8UfDl/wDgmZ8aPBHwx8T6fD4Km8cX7/Du30e4jazsfCk%2BtwW5v/ITJfQI7n7e7iMCF7CKVImEZQjxiTSfhXcfD2y8E6l8S/glZeAIv2htdmsPHeueDYpvg9er/wAIlaMkdro7XyQxDz5pY40F%2ByC/tNQmEjyP9mH670UAeE/sSah8Qrf/AIJ0fCu78JeEJrrxFB8MNHjstK8deIZ7d7iVLSJAbq8FpJKu8DfvNtu%2BYZjU5Azf%2BCYnhq%2B0D9nPxDqOv6NZ6frWt/G74jaj4gtNO1Fru3ivX8Y6ukiRTvDC00a%2BWqq7RRsyqCUUnA%2BiK%2BSv2SvFn7Z2n/D3xRZ/DH4B/DDV9CT40/EX%2Bz9R174u6jpt3Mv/AAmesljJbRaBcpEQ24ACZ8gA5BO0JxTab6Fxq1IQlCLspWuu9ndX9HqfWtFeM/8ACcf8FC/%2BjX/gz/4fjVv/AJl6P%2BE4/wCChf8A0a/8Gf8Aw/Grf/MvTIPZqK8Z/wCE4/4KF/8ARr/wZ/8AD8at/wDMvR/wnH/BQv8A6Nf%2BDP8A4fjVv/mXoA9mor5x%2BCP7R37dvx4%2BDHhD44%2BFf2UPhJa6X4z8L6frum22ofHXVFnhgu7aO4jSQJ4YZQ4WQBgrMMg4JHNdR/wnH/BQv/o1/wCDP/h%2BNW/%2BZegD2aivGf8AhOP%2BChf/AEa/8Gf/AA/Grf8AzL0f8Jx/wUL/AOjX/gz/AOH41b/5l6APZqK%2Bcfjd%2B0d%2B3b8B/gx4v%2BOPir9lD4SXWl%2BDPC%2Boa7qVtp/x11Rp5oLS2kuJEjD%2BGFUuVjIUMyjJGSBzXUf8Jx/wUL/6Nf8Agz/4fjVv/mXoA9morxn/AITj/goX/wBGv/Bn/wAPxq3/AMy9H/Ccf8FC/wDo1/4M/wDh%2BNW/%2BZegD2aivGf%2BE4/4KF/9Gv8AwZ/8Pxq3/wAy9cv8Xf2jv27fg14UtPF/iP8AZQ%2BElzb3nijRNCjjsvjrqjOJ9U1W10yBzu8MKNizXcbOc5CKxAY4UgH0dRXjP/Ccf8FC/wDo1/4M/wDh%2BNW/%2BZej/hOP%2BChf/Rr/AMGf/D8at/8AMvQB7NRXjP8AwnH/AAUL/wCjX/gz/wCH41b/AOZej/hOP%2BChf/Rr/wAGf/D8at/8y9AHs1FfOPj79o79u34d%2BK/BHhDWP2UPhJNcePPFEuhaVJbfHXVCkE8elahqZeXd4YBCeTp0ygqGO90GMEsvUf8ACcf8FC/%2BjX/gz/4fjVv/AJl6APZqK8Z/4Tj/AIKF/wDRr/wZ/wDD8at/8y9H/Ccf8FC/%2BjX/AIM/%2BH41b/5l6APZqK8Z/wCE4/4KF/8ARr/wZ/8AD8at/wDMvXL6t%2B0d%2B3bo/wAZ9A%2BB1x%2Byh8JG1TxF4X1fXbO5T466p5EcGnXOm28yOT4Y3B2bVICoCkEJJkqQoYA%2BjqK8Z/4Tj/goX/0a/wDBn/w/Grf/ADL0f8Jx/wAFC/8Ao1/4M/8Ah%2BNW/wDmXoA9morxn/hOP%2BChf/Rr/wAGf/D8at/8y9H/AAnH/BQv/o1/4M/%2BH41b/wCZegD2aivnHSf2jv27dY%2BM%2Bv8AwOt/2UPhIuqeHfC%2Bka7eXL/HXVPIkg1G51K3hRCPDG4uraXOWBUAB48FiWC9R/wnH/BQv/o1/wCDP/h%2BNW/%2BZegD2aivGf8AhOP%2BChf/AEa/8Gf/AA/Grf8AzL0f8Jx/wUL/AOjX/gz/AOH41b/5l6APZqK8Z/4Tj/goX/0a/wDBn/w/Grf/ADL1y/gH9o79u34ieK/G/hDR/wBlD4SQ3HgPxRFoWqyXPx11QJPPJpWn6mHi2%2BGCSnk6jCpLBTvRxjADMAfR1FeM/wDCcf8ABQv/AKNf%2BDP/AIfjVv8A5l6P%2BE4/4KF/9Gv/AAZ/8Pxq3/zL0AezV4z%2By/8A8lv/AGjv%2ByzWP/qFeF6P%2BE4/4KF/9Gv/AAZ/8Pxq3/zL1b/ZW%2BHPxp8H6x8UPHfx00DwvpOqePviFFrlnpXhPxLc6tb2trFoOj6YqvcXFlZs0jSadK5URbQsiDcxzgA9booooAKKKKACiiigAooooAKKKKACiiigAooooAKKKKACiiigAooooAKKKKACvlf9p79rT4ufDD4x%2BLNa8A%2BHfB8nhj4P%2BH/D9741OtaRcTarqlvq9/KlzBYXEdxGll5FtZx3GZIpxcyFIyIfL80/VFeM/Gf9iH4cfG74pH4ma5458VaXFqNrpFr4v8NaNdWqad4pg0u9kvbGK%2BWW3kmCxzTS5%2BzywGWOQxTGWMKgAPZqKKKACiiigD5j8OftK/EyH9v/AMUfB/4jax4e8J%2BG18QWmieDItR%2BEWspdeMYBoEGo4g8RtdrpzSx3dzqAFoIXk8u0mAUFmkX6cryvxZ%2By1B4/wDjJpHxT8e/G/xrq%2BleHtdj1rQPAFwdMi0ax1CO3eCOcNDZJey7PMkkVJrqSMSPu2fIgX1SgAooooA8X/4KC/F344fs/fsj%2BNPj18Ar3wpHrHgnQrvXLqDxhotzfW13aWttLM9uiW11bMkrsiKJC5VAWJR%2BBXn/AI8/a0%2BLngv48eLdT8KeHfCEXw88IfGPwj8PvGVnNpFwdb1XVddg0VI9Qhu0uFhjjg/tzSYzFJbyvIkM%2BJY9qCvYf2sf2cbL9rT4Ea9%2Bz7rXxV8U%2BEdJ8T2Utjrl/wCEF077Xc2UsTxTW26/tLqNEdX5ZEWQFRtdec8XB%2BwD4On%2BItn8RfFXxx8fa6x1nSdc8TaNqEulRWPifXNMSNLHVr2O2sImW4iEFphbZoIGNjbF4mMeSAe90UUUAFeL/tk/F344fBK18A%2BMfhZe%2BFP7G1D4meHPD3i%2Bx8QaLc3N1c2uq6zY6aDZyw3UKW0ka3Msm%2BRJ1JRF2ck17RXlX7V37Lb/ALVXhvQvC8/x98b%2BBrfQvElhrqN4Lh0dnu72xvILyzaU6lp94NsVxbxuFjCBuVk3qdoAPOP2ef2lfiZrf7VXi34I/FDV/D3hPTofFOt2/gnwlJ8ItZ0y5162hdJTf2%2BtXF39g1B2Mk0ssVtAX5LsVwxP05Xkuk/soh/jJovxl%2BI/7QHjvxrN4Xu7y78J6F4hGkw2Gj3VzbyWslxEthp9tLK/2eaeFfPklVFnfaASCPWqACiiigDw/wDbu%2BLnx4/Z%2B%2BDWr/HX4UeMfAtjp/hbRbm8vdF8WeGb2/ufEN7lFs9Ms5La9g%2BzzXEpFujeVdM0s8QWFj8ref8AwR/a%2B%2BM%2BufEvwV/a3gzwlpHw08b/ABP8UfDbwr4a07S5o9X0S/0CHVt889yLhreaCRvD%2BposMdvEY1a2PmSZYD0/9pX9kGD9pLx54I%2BIE37QPjvwhc%2BAbu5vdFsfDEWjT2cl7KgjW8mg1PTrxHnhj8xYZAFMYnlI%2BZsir4D/AGGvh74D%2BMtv8XYfiL4u1KDTtd1PXtE8Ialc2X9k6VreoxvHqGqQJFapP584nuyyvM8KNfXJjij8zgA9rooooAK%2BX/2ufjx%2B0v8ABb4iaf4U0qHwB410fxzDrVtovw5i8H30msJa2mh3V3Jf3E4vXiurYXUVvbSQi1iB%2B3woJjIyJJ9QV4dN%2BxNcR/tH%2BK/2mtE/ar%2BJenav4t02HTrnS4YPD89pp9nDA0cNtZtc6TLc28Syu91sWba87l3Dg7aAGfsIftB%2BN/j38Pby6%2BK/j7Rr7xdpws21/wAN2Xwu1fwjeaA89ssogubLV7qe4cFt/l3ACRyKh2htpNe6V5v8Dv2btO%2BDPifxJ8Q9Y%2BKXinxx4q8VxWNvrHifxc1gty9pZib7LapFp9ra20cUbXNy42whma4kLM2Rj0igAooooA%2BOf%2BCgn7cfxU/Yw8c/2nrmi6B4x8Ivo2o63b%2BFZfhzqdlLbppujX2pJJ/wkU10%2BmT3f2vTRssVgS6EcyygbYWkb179mj4u/HPVvip43/Z6/aOufCmoeJ/COk6HrUeteCtIubCxubHVBeRpEYLm5uXWWK4067Uv5uJEMTbIySorfHX9hLwR%2B05rV1a/H/4t%2BNfFHgu5kuJF%2BGV5JpsOixSTWM1kzb7eyjvpAI7iZgkt06B33bfkQL0/7Pn7M2kfAO817xFd/FDxZ448R%2BJDZx6t4q8a3Fm99LbWkRitbUfY7a3hWKIPKwxHvZ55XdnZyaAPSqKKKACviP8Aan/bK/az%2BDfxq8QfCjwd4b8OeNdTsNFuNd8MBPgf4gjk0UDUdMtUMLfbnHiaQWOqXHnf2X5TwtCVlEYmEdfbleH69%2BxbqfiXx6fidrX7XPxRm1vT4LyLwbeFNAA8KrdTQyT/AGSMaTsnZo4Ft916t0yxM4Uq7s5AOq/ZY%2BLD/GT4RweLL34maN4qv4dRurLVL7RvBl94dFtcRSsrWs2m6hcT3VnPGMK8czh8/NtUMBXo1cN8A/gL4e%2BAHhnU9G0rxTrfiDUdf1641vxJ4k8RzQNe6rfzBEaeUW8UMCYjihiVIYo41SJAFGCT3NABRRRQAUUUUAFFFFABRRRQBR8UeIbDwl4a1HxXqoc2umWM13ciJct5caF2wO5wpr5z/Ym/aT%2BNfj/xTo/gz42eHvBlmPHXwtsviN4Zh8GaVcWg0yO8uCbvT7szXEou5o3ubZ/tiCATtLMTBHtBf6Wu7S1v7WWxvbdJoZo2jmilUMrqRgqQeCCOMV5D%2BzN%2BxX4C/Zg1V9X0D4g%2BLfEstt4YsfDPh0eLL21mGgaFZvI9vptqbe3hLRqZPmlnM1xII4vMmfy1wAexUUUUAFcL%2B1B48%2BIvws/Zo%2BInxO%2BD/hRde8W%2BHPAur6p4W0NrGa6Go6jb2csttbGGBllmEkqInlxsHbdhSCQa7qs7xbol/wCJfDGoeH9L8V6joVze2kkNvrWkLA11YuykCaIXEUsRdTyBJG6ZHzKwyCAeXfsU/Fqf4ofDO%2BstW%2BIXh/WdT8O6qunXmmaJ8MNT8HPoaC2gkis7jStUuZ7mFwjiRXby0eKWLYmBvf2KvPPgP%2BztpPwOvPEviO5%2BIniTxj4k8X6jDeeIvFPit7MXd0YbdLeCIR2NtbW0UUcaAKscKZLOzFmZmPodABRRRQB8uftUftY/FD9nD4veOLL4laN4S8RfC%2Bw/Z38X%2BPbbQrfRLhNVdtEGlrPbXFzJcvbzRTrfTgILZCoRMu%2BWFdv%2BzP8AF/4%2Bap8XPGX7Ov7Sz%2BErzxR4Y8MeHvEseq%2BCtJubGykstWfUrdbYw3NzcuZYbjSLsGUSBZEeJvLjO5ag%2BMf7Cvh346fHVvjL48%2BO3jmXTZvBWp%2BEb74ewwaL/Yl3o2pLbfb7SQvprXpE7WkDs4ug6lCEZEZkPSfs7/su6H%2Bz7fa14jn%2BKHi3xv4h1%2B1sLK/8T%2BNrm0kvTYWKSLZ2Y%2ByW1vH5URnuHBKGR3uZXd3Zs0Aen0UUUAFfInxr/aX/AGtvBmu/tAeBLfwr4M8WXvgLw/4U8SfDax0n4f6nfzrHqOq6lCEvLWK8eXUZ4F02OdTbC3JckKvyq1fXdeFy/sUeIYvjp42%2BP%2BhftofFbStW8b6RY6Zc2NlZ%2BGGtNNtrK4uZ7NLYS6K8n7o3l0oMzyl1nIk8wqhUA6v9lT4tzfGX4UjxNqPxO0bxTqNrqtzY6tdaP4Iv/DZs7iJvmtZ9M1G4nurSdFK7kmYMQyttVWFek1wnwD%2BAegfAHQtZsdP8W654j1XxN4gl1zxP4m8SS27Xuq38kMMHmyC2hhgjCwW9vCqRRRoqQoAuck93QAUUUUAfG37S37Xf7S37PHxmg%2BG2sp8M/Gt9rcEE3hGHTvC17aS%2BC7zUvEOmeHtIm1OV76YXUU7avOC0S2cjixuljDL5hi9x/ZV%2BL/xI%2BIw8f/D74xHRJ/FXw08eN4a1nVfDWnTWdhqfmaXp2rW9xDbzTzyW%2BbXVLdHjaaXEkcmGIIxwtt/wTV8JNdfEN/EP7S/xO1m3%2BJOvHXNYt9SOheZZ6lFcQz6fc211FpaXSmwe3txaRvNJFEsKBkfnPrHwD%2BAuh/APw9q2m2Xi/XPEmreItem1rxP4o8SvbG/1e%2Bkjih86YWsEEC7IILeBEiijRY4I1C8EkA7qiiigBlz9p%2BzSfY9nnbD5Xm527scZxzjNfEHxW/a5/bT%2BGnxE1z4bW9t4D8Z694YvfDVvq3jrwR8Fdf1aPw5b6s1497YS6VZ6lPd3M0cNlY3RMU6fu7qFpYEBiaT7eu4ZLi1lt4bqSB5I2VZ4gpeMkYDLuBXI6jII9Qa%2Be/gx%2BwF4g%2BAnw2uPhp8O/wBur4xRR3WrPqc2s3ll4Tn1CW7leWS5nmmfQj9pkneXdJJOJHzGmwoBggHrPwE%2BIdl8Vvg74f8AiFYfEDRvFSanp4kfX/D%2BkzWFpdyAlZClrPNNLbFXVkaGSR3jZWVjuUgdfXJfAv4L%2BEv2ffhfp3wp8FXN/cWVhLdXE19qtyJrq%2Bu7q5lurq6mcKoaWa4nmlfaqrukO1VXCjraACqPieHxJc%2BG9Qt/Bup2Nlq8llKul3mp2D3VtBcFCI5JYY5YmmjVsFkWSMsAQHUncL1ZvjHQb/xR4Wv/AA7pfi3UtBuby1eKDWtHEBurFyOJohcRSxF1PIEkbocfMrDIoA%2BHvhv%2B3Z%2B1r8YPinrfwS%2BFmm/D5PGem2uu30njPxX8Lta0NdU0zSLXRZUsZdEvL5NQ0%2BV7vxDsSaeZ4/KhkuEhdZ0B%2BxvgF8WtN%2BPnwJ8FfHXRtNls7Pxr4S03XrSzmfc8EV5ax3CxsQBkqJACfUV4tq//AATI8D61rl98Rbv9pT4pp8QNWS8tda%2BJNte6RDq1/pl1bWttNphRNNFnDbFLK0YeRbRSrJAsqyhyzH6D8F%2BD/DXw88HaT4A8GaTFp%2Bj6HpkGn6TYQ52W1tDGscUa55wqKqj6UAadFFFAHL/GnUfHGjfC3Wtb%2BHPiGx0vVrCzN1Dfah4PvfECJHGQ8oGnWM8FzeSNErqkUMgcuy4Vz8jfFvwl/wCCiPx%2B8SeNND1PxvceEfAngzUp518QeOLz4GeIprbWL%2BHX7rSES5lW%2BjTwzPJa2lr%2B41RpJYHlWN87AlfbfxM8Ga7498JTeHPDfxS1/wAG3kksbxa/4ZisXu4NrAlVW/trmBgwBUh4m4Jxg4I8Vuv%2BCc3hTUPB9x8NtW/aQ%2BJt34Y1zUJr/wAeaBNcaOIvGF3PeNdXE19Kumi4i80ssLR2ctrEIYkjVFG7cAfRNFFFABRRRQAUUUUAFFFFABRRRQAUUUUAFFFFABRRRQAUUUUAFFFFABRRRQAUUUUAFFFFABRRRQAUUUUAFFFFABRRRQAUUUUAFFFFABRRRQAUUUUAFFFFABRRRQAUUUUAFFFFABRRRQAUUUUAFFFFABRRRQAUUUUAFFFFABRRRQAUUUUAFFFFABRRRQAUUUUAFFFFABRRRQAUUUUAFFFFABRRRQAUUUUAFFFFABRRRQAUUUUAFFFFABRRRQAUUUUAFFFFABRRRQAUUUUAFFFFABRRRQAUUUUAFFFFABRRRQAUUUUAFFFFABRRRQAUUUUAFFFFAH//2Q%3D%3D\">"
      ]
     },
     "metadata": {},
     "output_type": "display_data"
    }
   ],
   "source": [
    "s.run(tf.global_variables_initializer())\n",
    "\n",
    "BATCH_SIZE = 512\n",
    "EPOCHS = 40\n",
    "\n",
    "# for logging the progress right here in Jupyter (for those who don't have TensorBoard)\n",
    "simpleTrainingCurves = matplotlib_utils.SimpleTrainingCurves(\"cross-entropy\", \"accuracy\")\n",
    "\n",
    "for epoch in range(EPOCHS):  # we finish an epoch when we've looked at all training samples\n",
    "    \n",
    "    batch_losses = []\n",
    "    for batch_start in range(0, X_train_flat.shape[0], BATCH_SIZE):  # data is already shuffled\n",
    "        _, batch_loss = s.run([step, loss], {input_X: X_train_flat[batch_start:batch_start+BATCH_SIZE], \n",
    "                                             input_y: y_train_oh[batch_start:batch_start+BATCH_SIZE]})\n",
    "        # collect batch losses, this is almost free as we need a forward pass for backprop anyway\n",
    "        batch_losses.append(batch_loss)\n",
    "\n",
    "    train_loss = np.mean(batch_losses)\n",
    "    val_loss = s.run(loss, {input_X: X_val_flat, input_y: y_val_oh})  # this part is usually small\n",
    "    train_accuracy = accuracy_score(y_train, s.run(classes, {input_X: X_train_flat}))  # this is slow and usually skipped\n",
    "    valid_accuracy = accuracy_score(y_val, s.run(classes, {input_X: X_val_flat}))  \n",
    "    simpleTrainingCurves.add(train_loss, val_loss, train_accuracy, valid_accuracy)"
   ]
  },
  {
   "cell_type": "markdown",
   "metadata": {},
   "source": [
    "# Submit a linear model"
   ]
  },
  {
   "cell_type": "code",
   "execution_count": 31,
   "metadata": {},
   "outputs": [],
   "source": [
    "## GRADED PART, DO NOT CHANGE!\n",
    "# Testing shapes \n",
    "grader.set_answer(\"9XaAS\", grading_utils.get_tensors_shapes_string([W, b, input_X, input_y, logits, probas, classes]))\n",
    "# Validation loss\n",
    "grader.set_answer(\"vmogZ\", s.run(loss, {input_X: X_val_flat, input_y: y_val_oh}))\n",
    "# Validation accuracy\n",
    "grader.set_answer(\"RMv95\", accuracy_score(y_val, s.run(classes, {input_X: X_val_flat})))"
   ]
  },
  {
   "cell_type": "code",
   "execution_count": 32,
   "metadata": {},
   "outputs": [
    {
     "name": "stdout",
     "output_type": "stream",
     "text": [
      "Submitted to Coursera platform. See results on assignment page!\n"
     ]
    }
   ],
   "source": [
    "# you can make submission with answers so far to check yourself at this stage\n",
    "grader.submit(COURSERA_EMAIL, COURSERA_TOKEN)"
   ]
  },
  {
   "cell_type": "markdown",
   "metadata": {},
   "source": [
    "# MLP with hidden layers"
   ]
  },
  {
   "cell_type": "markdown",
   "metadata": {},
   "source": [
    "Previously we've coded a dense layer with matrix multiplication by hand. \n",
    "But this is not convenient, you have to create a lot of variables and your code becomes a mess. \n",
    "In TensorFlow there's an easier way to make a dense layer:\n",
    "```python\n",
    "hidden1 = tf.layers.dense(inputs, 256, activation=tf.nn.sigmoid)\n",
    "```\n",
    "\n",
    "That will create all the necessary variables automatically.\n",
    "Here you can also choose an activation function (remember that we need it for a hidden layer!).\n",
    "\n",
    "Now define the MLP with 2 hidden layers and restart training with the cell above.\n",
    "\n",
    "You're aiming for ~0.97 validation accuracy here."
   ]
  },
  {
   "cell_type": "code",
   "execution_count": 33,
   "metadata": {},
   "outputs": [],
   "source": [
    "hidden1 = tf.layers.dense(input_X, 256, activation = tf.nn.sigmoid)\n",
    "logits = tf.layers.dense(hidden1, 10, activation = None)\n",
    "probas = tf.nn.softmax(logits)\n",
    "classes = tf.argmax(probas, axis = 1)\n",
    "loss = tf.reduce_mean(tf.nn.softmax_cross_entropy_with_logits(labels = input_y, logits = logits))\n",
    "step = tf.train.AdamOptimizer(0.001).minimize(loss)"
   ]
  },
  {
   "cell_type": "markdown",
   "metadata": {},
   "source": [
    "# Submit the MLP with 2 hidden layers\n",
    "Run these cells after training the MLP with 2 hidden layers"
   ]
  },
  {
   "cell_type": "code",
   "execution_count": 35,
   "metadata": {},
   "outputs": [],
   "source": [
    "## GRADED PART, DO NOT CHANGE!\n",
    "# Validation loss for MLP\n",
    "grader.set_answer(\"i8bgs\", s.run(loss, {input_X: X_val_flat, input_y: y_val_oh}))\n",
    "# Validation accuracy for MLP\n",
    "grader.set_answer(\"rE763\", accuracy_score(y_val, s.run(classes, {input_X: X_val_flat})))"
   ]
  },
  {
   "cell_type": "code",
   "execution_count": 38,
   "metadata": {},
   "outputs": [
    {
     "name": "stdout",
     "output_type": "stream",
     "text": [
      "Submitted to Coursera platform. See results on assignment page!\n"
     ]
    }
   ],
   "source": [
    "# you can make submission with answers so far to check yourself at this stage\n",
    "grader.submit(COURSERA_EMAIL, COURSERA_TOKEN)"
   ]
  },
  {
   "cell_type": "code",
   "execution_count": null,
   "metadata": {},
   "outputs": [],
   "source": []
  }
 ],
 "metadata": {
  "kernelspec": {
   "display_name": "Python 3",
   "language": "python",
   "name": "python3"
  },
  "language_info": {
   "codemirror_mode": {
    "name": "ipython",
    "version": 3
   },
   "file_extension": ".py",
   "mimetype": "text/x-python",
   "name": "python",
   "nbconvert_exporter": "python",
   "pygments_lexer": "ipython3",
   "version": "3.5.2"
  }
 },
 "nbformat": 4,
 "nbformat_minor": 1
}
